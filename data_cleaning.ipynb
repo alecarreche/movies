{
 "cells": [
  {
   "cell_type": "code",
   "execution_count": null,
   "metadata": {},
   "outputs": [],
   "source": [
    "import pandas as pd\n",
    "import numpy as np\n",
    "from pandas import json_normalize\n",
    "import json"
   ]
  },
  {
   "cell_type": "markdown",
   "metadata": {},
   "source": [
    "# Movie Metadata "
   ]
  },
  {
   "cell_type": "code",
   "execution_count": null,
   "metadata": {},
   "outputs": [],
   "source": [
    "movie_data = pd.read_csv(\"movie_data/movies_metadata.csv\")\n",
    "movie_data.head()"
   ]
  },
  {
   "cell_type": "code",
   "execution_count": null,
   "metadata": {},
   "outputs": [],
   "source": [
    "movie_data.shape"
   ]
  },
  {
   "cell_type": "code",
   "execution_count": null,
   "metadata": {},
   "outputs": [],
   "source": [
    "movie_data.columns"
   ]
  },
  {
   "cell_type": "code",
   "execution_count": null,
   "metadata": {},
   "outputs": [],
   "source": [
    "movie_data.dtypes"
   ]
  },
  {
   "cell_type": "code",
   "execution_count": null,
   "metadata": {},
   "outputs": [],
   "source": [
    "# convert budget col to number\n",
    "\n",
    "# get rid of rows that contain letters first \n",
    "bad_budget_rows = movie_data[\"budget\"].str.isnumeric()\n",
    "movie_data = movie_data[bad_budget_rows]\n",
    "movie_data[\"budget\"] = movie_data[\"budget\"].astype(np.float64)\n",
    "movie_data = movie_data[(movie_data[\"revenue\"] != 0) & (movie_data[\"budget\"] != 0) & (movie_data[\"runtime\"] !=0)].reset_index(drop=True)"
   ]
  },
  {
   "cell_type": "code",
   "execution_count": null,
   "metadata": {},
   "outputs": [],
   "source": [
    "# columns that are already cleaned\n",
    "movie_df = movie_data[[\"id\", \"revenue\", \"vote_average\", \"title\", \"budget\", \"runtime\", \"original_language\"]].copy()\n",
    "movie_df.shape"
   ]
  },
  {
   "cell_type": "code",
   "execution_count": null,
   "metadata": {},
   "outputs": [],
   "source": [
    "# JSON cols \n",
    "\n",
    "# belongs to collection -> boolean\n",
    "# genres -> top 1\n",
    "# production companies -> top 1\n",
    "# production countries -> top 1 \n",
    "# release date -> extract month and year "
   ]
  },
  {
   "cell_type": "code",
   "execution_count": null,
   "metadata": {},
   "outputs": [],
   "source": [
    "# Franchise\n",
    "movie_df[\"is_franchise\"] = ~movie_data[\"belongs_to_collection\"].isna()"
   ]
  },
  {
   "cell_type": "code",
   "execution_count": null,
   "metadata": {},
   "outputs": [],
   "source": [
    "# genres \n",
    "def get_json_val(x):\n",
    "    x_dict = eval(x)\n",
    "    return np.nan if len(x_dict) == 0 else x_dict[0][\"name\"]\n",
    "\n",
    "movie_df[\"genre\"] = movie_data[\"genres\"].apply(get_json_val)\n",
    "movie_df.dropna(inplace=True)\n",
    "movie_df.shape"
   ]
  },
  {
   "cell_type": "code",
   "execution_count": null,
   "metadata": {},
   "outputs": [],
   "source": [
    "# production company \n",
    "movie_df[\"production_company\"] = movie_data[\"production_companies\"].apply(get_json_val)\n",
    "movie_df.dropna(inplace=True)\n",
    "movie_df.shape"
   ]
  },
  {
   "cell_type": "code",
   "execution_count": null,
   "metadata": {},
   "outputs": [],
   "source": [
    "# country\n",
    "movie_df[\"country\"] = movie_data[\"production_countries\"].apply(get_json_val)\n",
    "movie_df.dropna(inplace=True)\n",
    "movie_df.shape"
   ]
  },
  {
   "cell_type": "code",
   "execution_count": null,
   "metadata": {},
   "outputs": [],
   "source": [
    "# release date \n",
    "dates = pd.to_datetime(movie_data[\"release_date\"])\n",
    "movie_df[\"release_month\"] = dates.dt.month.astype(\"category\")\n",
    "movie_df[\"release_year\"] = dates.dt.year.astype(\"category\")\n",
    "movie_df.dropna(inplace=True)\n",
    "movie_df.head()"
   ]
  },
  {
   "cell_type": "code",
   "execution_count": null,
   "metadata": {},
   "outputs": [],
   "source": [
    "# formatted = pd.get_dummies(movie_df.set_index(\"id\").drop(\"title\", axis=1))"
   ]
  },
  {
   "cell_type": "markdown",
   "metadata": {},
   "source": [
    "# Credits data"
   ]
  },
  {
   "cell_type": "code",
   "execution_count": null,
   "metadata": {},
   "outputs": [],
   "source": [
    "credits = pd.read_csv(\"movie_data/credits.csv\")\n",
    "credits.head()"
   ]
  },
  {
   "cell_type": "code",
   "execution_count": null,
   "metadata": {},
   "outputs": [],
   "source": [
    "def get_actors(x):\n",
    "    x_dict = eval(x)\n",
    "    x_len = len(x_dict)\n",
    "    cast = []\n",
    "    for i in range(min(x_len, 3)):\n",
    "        cast.append(x_dict[i][\"name\"])\n",
    "    return cast"
   ]
  },
  {
   "cell_type": "code",
   "execution_count": null,
   "metadata": {},
   "outputs": [],
   "source": [
    "credits[\"actors\"] = credits[\"cast\"].apply(get_actors)\n",
    "credits.head()"
   ]
  },
  {
   "cell_type": "code",
   "execution_count": null,
   "metadata": {},
   "outputs": [],
   "source": [
    "credits = credits.join(pd.DataFrame(credits[\"actors\"].to_list(), columns=['actor_1', 'actor_2', 'actor_3']))\n",
    "credits.drop([\"actors\", \"cast\"], axis=1, inplace=True)"
   ]
  },
  {
   "cell_type": "code",
   "execution_count": null,
   "metadata": {},
   "outputs": [],
   "source": [
    "credits.head()"
   ]
  },
  {
   "cell_type": "code",
   "execution_count": null,
   "metadata": {},
   "outputs": [],
   "source": [
    "def get_crew(x, dep):\n",
    "    x_dict = eval(x)\n",
    "    for pos in x_dict:\n",
    "        if pos[\"department\"] == dep:\n",
    "            return pos[\"name\"]\n",
    "    return \"None\""
   ]
  },
  {
   "cell_type": "code",
   "execution_count": null,
   "metadata": {},
   "outputs": [],
   "source": [
    "credits[\"Director\"] = credits[\"crew\"].apply(get_crew, dep=\"Directing\")\n",
    "credits[\"Producer\"] = credits[\"crew\"].apply(get_crew, dep=\"Production\")\n",
    "credits[\"Screenwriter\"] = credits[\"crew\"].apply(get_crew, dep=\"Writing\")"
   ]
  },
  {
   "cell_type": "code",
   "execution_count": null,
   "metadata": {},
   "outputs": [],
   "source": [
    "credits.drop(\"crew\", axis=1, inplace=True)\n",
    "credits.head()"
   ]
  },
  {
   "cell_type": "markdown",
   "metadata": {},
   "source": [
    "# Keywords data"
   ]
  },
  {
   "cell_type": "code",
   "execution_count": null,
   "metadata": {},
   "outputs": [],
   "source": [
    "keywords_df = pd.read_csv(\"movie_data/keywords.csv\", index_col = \"id\")\n",
    "ids = set(movie_df[\"id\"].astype(int)).intersection(keywords_df.index)\n",
    "keywords_df = keywords_df.loc[ids]\n",
    "keywords_df.head()"
   ]
  },
  {
   "cell_type": "code",
   "execution_count": null,
   "metadata": {},
   "outputs": [],
   "source": [
    "def get_keywords(x):\n",
    "    x_dict = eval(x)\n",
    "    return [keyword[\"name\"] for keyword in x_dict]"
   ]
  },
  {
   "cell_type": "code",
   "execution_count": null,
   "metadata": {},
   "outputs": [],
   "source": [
    "keywords = keywords_df[\"keywords\"].apply(get_keywords)\n",
    "keywords[:5]"
   ]
  },
  {
   "cell_type": "code",
   "execution_count": null,
   "metadata": {},
   "outputs": [],
   "source": [
    "keywords_df[\"keyword\"] = [\"None\" if len(row) == 0 else row[0] for row in keywords]\n",
    "keywords_df.drop(['keywords'], axis=1, inplace=True)\n",
    "keywords_df.head()"
   ]
  },
  {
   "cell_type": "markdown",
   "metadata": {},
   "source": [
    "# Joins"
   ]
  },
  {
   "cell_type": "code",
   "execution_count": null,
   "metadata": {},
   "outputs": [],
   "source": []
  }
 ],
 "metadata": {
  "kernelspec": {
   "display_name": "Python 3",
   "language": "python",
   "name": "python3"
  },
  "language_info": {
   "codemirror_mode": {
    "name": "ipython",
    "version": 3
   },
   "file_extension": ".py",
   "mimetype": "text/x-python",
   "name": "python",
   "nbconvert_exporter": "python",
   "pygments_lexer": "ipython3",
   "version": "3.8.3"
  }
 },
 "nbformat": 4,
 "nbformat_minor": 4
}
