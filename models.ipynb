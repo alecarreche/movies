{
 "cells": [
  {
   "cell_type": "code",
   "execution_count": 31,
   "metadata": {},
   "outputs": [],
   "source": [
    "# preprocessing\n",
    "import pandas as pd\n",
    "import numpy as np\n",
    "from sklearn.model_selection import train_test_split\n",
    "from sklearn.model_selection import cross_val_score\n",
    "from sklearn.preprocessing import Normalizer\n",
    "from sklearn.model_selection import GridSearchCV\n",
    "from sklearn.preprocessing import StandardScaler\n",
    "\n",
    "# models\n",
    "from sklearn.linear_model import LassoCV\n",
    "from sklearn.linear_model import RidgeCV\n",
    "from sklearn.linear_model import ElasticNetCV\n",
    "from sklearn.neighbors import KNeighborsRegressor\n",
    "from sklearn.ensemble import RandomForestRegressor\n",
    "from sklearn.svm import SVR\n",
    "\n",
    "# success\n",
    "from sklearn.metrics import mean_squared_error\n",
    "from sklearn.metrics import median_absolute_error\n",
    "from sklearn.metrics import mean_absolute_error\n",
    "\n",
    "import matplotlib.pyplot as plt"
   ]
  },
  {
   "cell_type": "markdown",
   "metadata": {},
   "source": [
    "# Preprocessing"
   ]
  },
  {
   "cell_type": "code",
   "execution_count": 140,
   "metadata": {},
   "outputs": [
    {
     "name": "stdout",
     "output_type": "stream",
     "text": [
      "<class 'pandas.core.frame.DataFrame'>\n",
      "Int64Index: 5255 entries, 862 to 63281\n",
      "Data columns (total 20 columns):\n",
      " #   Column              Non-Null Count  Dtype  \n",
      "---  ------              --------------  -----  \n",
      " 0   Unnamed: 0          5255 non-null   int64  \n",
      " 1   revenue             5255 non-null   float64\n",
      " 2   vote_average        5255 non-null   float64\n",
      " 3   title               5255 non-null   object \n",
      " 4   budget              5255 non-null   float64\n",
      " 5   runtime             5255 non-null   float64\n",
      " 6   original_language   5255 non-null   object \n",
      " 7   is_franchise        5255 non-null   bool   \n",
      " 8   genre               5255 non-null   object \n",
      " 9   production_company  5255 non-null   object \n",
      " 10  country             5255 non-null   object \n",
      " 11  release_month       5255 non-null   int64  \n",
      " 12  release_year        5255 non-null   int64  \n",
      " 13  actor_1             5255 non-null   object \n",
      " 14  actor_2             5255 non-null   object \n",
      " 15  actor_3             5255 non-null   object \n",
      " 16  Director            5255 non-null   object \n",
      " 17  Producer            5255 non-null   object \n",
      " 18  Screenwriter        5255 non-null   object \n",
      " 19  keyword             5255 non-null   object \n",
      "dtypes: bool(1), float64(4), int64(3), object(12)\n",
      "memory usage: 826.2+ KB\n"
     ]
    }
   ],
   "source": [
    "df = pd.read_csv(\"movie_data/cleaned_data.csv\", index_col=\"id\")\n",
    "df.info()"
   ]
  },
  {
   "cell_type": "code",
   "execution_count": 141,
   "metadata": {},
   "outputs": [
    {
     "name": "stdout",
     "output_type": "stream",
     "text": [
      "<class 'pandas.core.frame.DataFrame'>\n",
      "Int64Index: 5255 entries, 862 to 63281\n",
      "Data columns (total 20 columns):\n",
      " #   Column              Non-Null Count  Dtype   \n",
      "---  ------              --------------  -----   \n",
      " 0   Unnamed: 0          5255 non-null   int64   \n",
      " 1   revenue             5255 non-null   float64 \n",
      " 2   vote_average        5255 non-null   float64 \n",
      " 3   title               5255 non-null   object  \n",
      " 4   budget              5255 non-null   float64 \n",
      " 5   runtime             5255 non-null   float64 \n",
      " 6   original_language   5255 non-null   category\n",
      " 7   is_franchise        5255 non-null   category\n",
      " 8   genre               5255 non-null   category\n",
      " 9   production_company  5255 non-null   category\n",
      " 10  country             5255 non-null   category\n",
      " 11  release_month       5255 non-null   category\n",
      " 12  release_year        5255 non-null   category\n",
      " 13  actor_1             5255 non-null   category\n",
      " 14  actor_2             5255 non-null   category\n",
      " 15  actor_3             5255 non-null   category\n",
      " 16  Director            5255 non-null   category\n",
      " 17  Producer            5255 non-null   category\n",
      " 18  Screenwriter        5255 non-null   category\n",
      " 19  keyword             5255 non-null   category\n",
      "dtypes: category(14), float64(4), int64(1), object(1)\n",
      "memory usage: 1.2+ MB\n"
     ]
    }
   ],
   "source": [
    "df.iloc[:,6:] = df.iloc[:,6:].astype(\"category\")\n",
    "df.info()"
   ]
  },
  {
   "cell_type": "code",
   "execution_count": 142,
   "metadata": {},
   "outputs": [
    {
     "data": {
      "text/html": [
       "<div>\n",
       "<style scoped>\n",
       "    .dataframe tbody tr th:only-of-type {\n",
       "        vertical-align: middle;\n",
       "    }\n",
       "\n",
       "    .dataframe tbody tr th {\n",
       "        vertical-align: top;\n",
       "    }\n",
       "\n",
       "    .dataframe thead th {\n",
       "        text-align: right;\n",
       "    }\n",
       "</style>\n",
       "<table border=\"1\" class=\"dataframe\">\n",
       "  <thead>\n",
       "    <tr style=\"text-align: right;\">\n",
       "      <th></th>\n",
       "      <th>revenue</th>\n",
       "      <th>vote_average</th>\n",
       "      <th>title</th>\n",
       "      <th>budget</th>\n",
       "      <th>runtime</th>\n",
       "      <th>original_language</th>\n",
       "      <th>is_franchise</th>\n",
       "      <th>genre</th>\n",
       "      <th>production_company</th>\n",
       "      <th>country</th>\n",
       "      <th>release_month</th>\n",
       "      <th>release_year</th>\n",
       "      <th>actor_1</th>\n",
       "      <th>actor_2</th>\n",
       "      <th>actor_3</th>\n",
       "      <th>Director</th>\n",
       "      <th>Producer</th>\n",
       "      <th>Screenwriter</th>\n",
       "      <th>keyword</th>\n",
       "    </tr>\n",
       "    <tr>\n",
       "      <th>id</th>\n",
       "      <th></th>\n",
       "      <th></th>\n",
       "      <th></th>\n",
       "      <th></th>\n",
       "      <th></th>\n",
       "      <th></th>\n",
       "      <th></th>\n",
       "      <th></th>\n",
       "      <th></th>\n",
       "      <th></th>\n",
       "      <th></th>\n",
       "      <th></th>\n",
       "      <th></th>\n",
       "      <th></th>\n",
       "      <th></th>\n",
       "      <th></th>\n",
       "      <th></th>\n",
       "      <th></th>\n",
       "      <th></th>\n",
       "    </tr>\n",
       "  </thead>\n",
       "  <tbody>\n",
       "    <tr>\n",
       "      <th>862</th>\n",
       "      <td>373554033.0</td>\n",
       "      <td>7.7</td>\n",
       "      <td>Toy Story</td>\n",
       "      <td>30000000.0</td>\n",
       "      <td>81.0</td>\n",
       "      <td>en</td>\n",
       "      <td>True</td>\n",
       "      <td>Animation</td>\n",
       "      <td>Pixar Animation Studios</td>\n",
       "      <td>United States of America</td>\n",
       "      <td>10</td>\n",
       "      <td>1995</td>\n",
       "      <td>Tom Hanks</td>\n",
       "      <td>Tim Allen</td>\n",
       "      <td>Don Rickles</td>\n",
       "      <td>John Lasseter</td>\n",
       "      <td>Bonnie Arnold</td>\n",
       "      <td>Joss Whedon</td>\n",
       "      <td>jealousy</td>\n",
       "    </tr>\n",
       "    <tr>\n",
       "      <th>8844</th>\n",
       "      <td>262797249.0</td>\n",
       "      <td>6.9</td>\n",
       "      <td>Jumanji</td>\n",
       "      <td>65000000.0</td>\n",
       "      <td>104.0</td>\n",
       "      <td>en</td>\n",
       "      <td>False</td>\n",
       "      <td>Adventure</td>\n",
       "      <td>TriStar Pictures</td>\n",
       "      <td>United States of America</td>\n",
       "      <td>12</td>\n",
       "      <td>1995</td>\n",
       "      <td>Robin Williams</td>\n",
       "      <td>Jonathan Hyde</td>\n",
       "      <td>Kirsten Dunst</td>\n",
       "      <td>Joe Johnston</td>\n",
       "      <td>Larry J. Franco</td>\n",
       "      <td>Jonathan Hensleigh</td>\n",
       "      <td>board game</td>\n",
       "    </tr>\n",
       "    <tr>\n",
       "      <th>31357</th>\n",
       "      <td>81452156.0</td>\n",
       "      <td>6.1</td>\n",
       "      <td>Waiting to Exhale</td>\n",
       "      <td>16000000.0</td>\n",
       "      <td>127.0</td>\n",
       "      <td>en</td>\n",
       "      <td>False</td>\n",
       "      <td>Comedy</td>\n",
       "      <td>Twentieth Century Fox Film Corporation</td>\n",
       "      <td>United States of America</td>\n",
       "      <td>12</td>\n",
       "      <td>1995</td>\n",
       "      <td>Whitney Houston</td>\n",
       "      <td>Angela Bassett</td>\n",
       "      <td>Loretta Devine</td>\n",
       "      <td>Forest Whitaker</td>\n",
       "      <td>Ronald Bass</td>\n",
       "      <td>Ronald Bass</td>\n",
       "      <td>based on novel</td>\n",
       "    </tr>\n",
       "    <tr>\n",
       "      <th>949</th>\n",
       "      <td>187436818.0</td>\n",
       "      <td>7.7</td>\n",
       "      <td>Heat</td>\n",
       "      <td>60000000.0</td>\n",
       "      <td>170.0</td>\n",
       "      <td>en</td>\n",
       "      <td>False</td>\n",
       "      <td>Action</td>\n",
       "      <td>Regency Enterprises</td>\n",
       "      <td>United States of America</td>\n",
       "      <td>12</td>\n",
       "      <td>1995</td>\n",
       "      <td>Al Pacino</td>\n",
       "      <td>Robert De Niro</td>\n",
       "      <td>Val Kilmer</td>\n",
       "      <td>Michael Mann</td>\n",
       "      <td>Art Linson</td>\n",
       "      <td>Michael Mann</td>\n",
       "      <td>robbery</td>\n",
       "    </tr>\n",
       "    <tr>\n",
       "      <th>9091</th>\n",
       "      <td>64350171.0</td>\n",
       "      <td>5.5</td>\n",
       "      <td>Sudden Death</td>\n",
       "      <td>35000000.0</td>\n",
       "      <td>106.0</td>\n",
       "      <td>en</td>\n",
       "      <td>False</td>\n",
       "      <td>Action</td>\n",
       "      <td>Universal Pictures</td>\n",
       "      <td>United States of America</td>\n",
       "      <td>12</td>\n",
       "      <td>1995</td>\n",
       "      <td>Jean-Claude Van Damme</td>\n",
       "      <td>Powers Boothe</td>\n",
       "      <td>Dorian Harewood</td>\n",
       "      <td>Peter Hyams</td>\n",
       "      <td>Moshe Diamant</td>\n",
       "      <td>Karen Elise Baldwin</td>\n",
       "      <td>terrorist</td>\n",
       "    </tr>\n",
       "  </tbody>\n",
       "</table>\n",
       "</div>"
      ],
      "text/plain": [
       "           revenue  vote_average              title      budget  runtime  \\\n",
       "id                                                                         \n",
       "862    373554033.0           7.7          Toy Story  30000000.0     81.0   \n",
       "8844   262797249.0           6.9            Jumanji  65000000.0    104.0   \n",
       "31357   81452156.0           6.1  Waiting to Exhale  16000000.0    127.0   \n",
       "949    187436818.0           7.7               Heat  60000000.0    170.0   \n",
       "9091    64350171.0           5.5       Sudden Death  35000000.0    106.0   \n",
       "\n",
       "      original_language is_franchise      genre  \\\n",
       "id                                                \n",
       "862                  en         True  Animation   \n",
       "8844                 en        False  Adventure   \n",
       "31357                en        False     Comedy   \n",
       "949                  en        False     Action   \n",
       "9091                 en        False     Action   \n",
       "\n",
       "                           production_company                   country  \\\n",
       "id                                                                        \n",
       "862                   Pixar Animation Studios  United States of America   \n",
       "8844                         TriStar Pictures  United States of America   \n",
       "31357  Twentieth Century Fox Film Corporation  United States of America   \n",
       "949                       Regency Enterprises  United States of America   \n",
       "9091                       Universal Pictures  United States of America   \n",
       "\n",
       "      release_month release_year                actor_1         actor_2  \\\n",
       "id                                                                        \n",
       "862              10         1995              Tom Hanks       Tim Allen   \n",
       "8844             12         1995         Robin Williams   Jonathan Hyde   \n",
       "31357            12         1995        Whitney Houston  Angela Bassett   \n",
       "949              12         1995              Al Pacino  Robert De Niro   \n",
       "9091             12         1995  Jean-Claude Van Damme   Powers Boothe   \n",
       "\n",
       "               actor_3         Director         Producer         Screenwriter  \\\n",
       "id                                                                              \n",
       "862        Don Rickles    John Lasseter    Bonnie Arnold          Joss Whedon   \n",
       "8844     Kirsten Dunst     Joe Johnston  Larry J. Franco   Jonathan Hensleigh   \n",
       "31357   Loretta Devine  Forest Whitaker      Ronald Bass          Ronald Bass   \n",
       "949         Val Kilmer     Michael Mann       Art Linson         Michael Mann   \n",
       "9091   Dorian Harewood      Peter Hyams    Moshe Diamant  Karen Elise Baldwin   \n",
       "\n",
       "              keyword  \n",
       "id                     \n",
       "862          jealousy  \n",
       "8844       board game  \n",
       "31357  based on novel  \n",
       "949           robbery  \n",
       "9091        terrorist  "
      ]
     },
     "execution_count": 142,
     "metadata": {},
     "output_type": "execute_result"
    }
   ],
   "source": [
    "df = df.iloc[: , 1:]\n",
    "df.head()"
   ]
  },
  {
   "cell_type": "code",
   "execution_count": 143,
   "metadata": {},
   "outputs": [],
   "source": [
    "mask = (df[\"revenue\"] > 1000) & (df[\"budget\"] > 1000)\n",
    "df = df[mask]"
   ]
  },
  {
   "cell_type": "code",
   "execution_count": 170,
   "metadata": {},
   "outputs": [],
   "source": [
    "get_out_row = df[df[\"title\"] == \"Get Out\"].index\n",
    "avatar_row = df[df[\"title\"] == \"Avatar\"].index\n",
    "mars_row = df[df[\"title\"] == \"Mars Needs Moms\"].index\n",
    "good_dino_row = df[df[\"title\"] == \"The Good Dinosaur\"].index\n",
    "nightcrawler_row = df[df[\"title\"] == \"Nightcrawler\"].index"
   ]
  },
  {
   "cell_type": "code",
   "execution_count": 145,
   "metadata": {},
   "outputs": [
    {
     "data": {
      "text/html": [
       "<div>\n",
       "<style scoped>\n",
       "    .dataframe tbody tr th:only-of-type {\n",
       "        vertical-align: middle;\n",
       "    }\n",
       "\n",
       "    .dataframe tbody tr th {\n",
       "        vertical-align: top;\n",
       "    }\n",
       "\n",
       "    .dataframe thead th {\n",
       "        text-align: right;\n",
       "    }\n",
       "</style>\n",
       "<table border=\"1\" class=\"dataframe\">\n",
       "  <thead>\n",
       "    <tr style=\"text-align: right;\">\n",
       "      <th></th>\n",
       "      <th>revenue</th>\n",
       "      <th>vote_average</th>\n",
       "      <th>budget</th>\n",
       "      <th>runtime</th>\n",
       "      <th>original_language_af</th>\n",
       "      <th>original_language_bm</th>\n",
       "      <th>original_language_ca</th>\n",
       "      <th>original_language_cn</th>\n",
       "      <th>original_language_da</th>\n",
       "      <th>original_language_de</th>\n",
       "      <th>...</th>\n",
       "      <th>keyword_writer</th>\n",
       "      <th>keyword_writing</th>\n",
       "      <th>keyword_wyoming</th>\n",
       "      <th>keyword_yacht</th>\n",
       "      <th>keyword_yakuza</th>\n",
       "      <th>keyword_yuppie</th>\n",
       "      <th>keyword_zombie</th>\n",
       "      <th>keyword_zoo</th>\n",
       "      <th>keyword_любовь</th>\n",
       "      <th>keyword_绝地奶霸</th>\n",
       "    </tr>\n",
       "    <tr>\n",
       "      <th>id</th>\n",
       "      <th></th>\n",
       "      <th></th>\n",
       "      <th></th>\n",
       "      <th></th>\n",
       "      <th></th>\n",
       "      <th></th>\n",
       "      <th></th>\n",
       "      <th></th>\n",
       "      <th></th>\n",
       "      <th></th>\n",
       "      <th></th>\n",
       "      <th></th>\n",
       "      <th></th>\n",
       "      <th></th>\n",
       "      <th></th>\n",
       "      <th></th>\n",
       "      <th></th>\n",
       "      <th></th>\n",
       "      <th></th>\n",
       "      <th></th>\n",
       "      <th></th>\n",
       "    </tr>\n",
       "  </thead>\n",
       "  <tbody>\n",
       "    <tr>\n",
       "      <th>419430</th>\n",
       "      <td>252434250.0</td>\n",
       "      <td>7.2</td>\n",
       "      <td>5000000.0</td>\n",
       "      <td>NaN</td>\n",
       "      <td>0</td>\n",
       "      <td>0</td>\n",
       "      <td>0</td>\n",
       "      <td>0</td>\n",
       "      <td>0</td>\n",
       "      <td>0</td>\n",
       "      <td>...</td>\n",
       "      <td>0</td>\n",
       "      <td>0</td>\n",
       "      <td>0</td>\n",
       "      <td>0</td>\n",
       "      <td>0</td>\n",
       "      <td>0</td>\n",
       "      <td>0</td>\n",
       "      <td>0</td>\n",
       "      <td>0</td>\n",
       "      <td>0</td>\n",
       "    </tr>\n",
       "  </tbody>\n",
       "</table>\n",
       "<p>1 rows × 18622 columns</p>\n",
       "</div>"
      ],
      "text/plain": [
       "            revenue  vote_average     budget  runtime  original_language_af  \\\n",
       "id                                                                            \n",
       "419430  252434250.0           7.2  5000000.0      NaN                     0   \n",
       "\n",
       "        original_language_bm  original_language_ca  original_language_cn  \\\n",
       "id                                                                         \n",
       "419430                     0                     0                     0   \n",
       "\n",
       "        original_language_da  original_language_de  ...  keyword_writer  \\\n",
       "id                                                  ...                   \n",
       "419430                     0                     0  ...               0   \n",
       "\n",
       "        keyword_writing  keyword_wyoming  keyword_yacht  keyword_yakuza  \\\n",
       "id                                                                        \n",
       "419430                0                0              0               0   \n",
       "\n",
       "        keyword_yuppie  keyword_zombie  keyword_zoo  keyword_любовь  \\\n",
       "id                                                                    \n",
       "419430               0               0            0               0   \n",
       "\n",
       "        keyword_绝地奶霸  \n",
       "id                    \n",
       "419430             0  \n",
       "\n",
       "[1 rows x 18622 columns]"
      ]
     },
     "execution_count": 145,
     "metadata": {},
     "output_type": "execute_result"
    }
   ],
   "source": [
    "df_dummies.loc[get_out_row]"
   ]
  },
  {
   "cell_type": "code",
   "execution_count": 146,
   "metadata": {},
   "outputs": [
    {
     "data": {
      "text/html": [
       "<div>\n",
       "<style scoped>\n",
       "    .dataframe tbody tr th:only-of-type {\n",
       "        vertical-align: middle;\n",
       "    }\n",
       "\n",
       "    .dataframe tbody tr th {\n",
       "        vertical-align: top;\n",
       "    }\n",
       "\n",
       "    .dataframe thead th {\n",
       "        text-align: right;\n",
       "    }\n",
       "</style>\n",
       "<table border=\"1\" class=\"dataframe\">\n",
       "  <thead>\n",
       "    <tr style=\"text-align: right;\">\n",
       "      <th></th>\n",
       "      <th>revenue</th>\n",
       "      <th>vote_average</th>\n",
       "      <th>budget</th>\n",
       "      <th>runtime</th>\n",
       "      <th>original_language_af</th>\n",
       "      <th>original_language_bm</th>\n",
       "      <th>original_language_ca</th>\n",
       "      <th>original_language_cn</th>\n",
       "      <th>original_language_da</th>\n",
       "      <th>original_language_de</th>\n",
       "      <th>...</th>\n",
       "      <th>keyword_writer</th>\n",
       "      <th>keyword_writing</th>\n",
       "      <th>keyword_wyoming</th>\n",
       "      <th>keyword_yacht</th>\n",
       "      <th>keyword_yakuza</th>\n",
       "      <th>keyword_yuppie</th>\n",
       "      <th>keyword_zombie</th>\n",
       "      <th>keyword_zoo</th>\n",
       "      <th>keyword_любовь</th>\n",
       "      <th>keyword_绝地奶霸</th>\n",
       "    </tr>\n",
       "    <tr>\n",
       "      <th>id</th>\n",
       "      <th></th>\n",
       "      <th></th>\n",
       "      <th></th>\n",
       "      <th></th>\n",
       "      <th></th>\n",
       "      <th></th>\n",
       "      <th></th>\n",
       "      <th></th>\n",
       "      <th></th>\n",
       "      <th></th>\n",
       "      <th></th>\n",
       "      <th></th>\n",
       "      <th></th>\n",
       "      <th></th>\n",
       "      <th></th>\n",
       "      <th></th>\n",
       "      <th></th>\n",
       "      <th></th>\n",
       "      <th></th>\n",
       "      <th></th>\n",
       "      <th></th>\n",
       "    </tr>\n",
       "  </thead>\n",
       "  <tbody>\n",
       "    <tr>\n",
       "      <th>862</th>\n",
       "      <td>373554033.0</td>\n",
       "      <td>7.7</td>\n",
       "      <td>30000000.0</td>\n",
       "      <td>81.0</td>\n",
       "      <td>0</td>\n",
       "      <td>0</td>\n",
       "      <td>0</td>\n",
       "      <td>0</td>\n",
       "      <td>0</td>\n",
       "      <td>0</td>\n",
       "      <td>...</td>\n",
       "      <td>0</td>\n",
       "      <td>0</td>\n",
       "      <td>0</td>\n",
       "      <td>0</td>\n",
       "      <td>0</td>\n",
       "      <td>0</td>\n",
       "      <td>0</td>\n",
       "      <td>0</td>\n",
       "      <td>0</td>\n",
       "      <td>0</td>\n",
       "    </tr>\n",
       "    <tr>\n",
       "      <th>8844</th>\n",
       "      <td>262797249.0</td>\n",
       "      <td>6.9</td>\n",
       "      <td>65000000.0</td>\n",
       "      <td>104.0</td>\n",
       "      <td>0</td>\n",
       "      <td>0</td>\n",
       "      <td>0</td>\n",
       "      <td>0</td>\n",
       "      <td>0</td>\n",
       "      <td>0</td>\n",
       "      <td>...</td>\n",
       "      <td>0</td>\n",
       "      <td>0</td>\n",
       "      <td>0</td>\n",
       "      <td>0</td>\n",
       "      <td>0</td>\n",
       "      <td>0</td>\n",
       "      <td>0</td>\n",
       "      <td>0</td>\n",
       "      <td>0</td>\n",
       "      <td>0</td>\n",
       "    </tr>\n",
       "    <tr>\n",
       "      <th>31357</th>\n",
       "      <td>81452156.0</td>\n",
       "      <td>6.1</td>\n",
       "      <td>16000000.0</td>\n",
       "      <td>127.0</td>\n",
       "      <td>0</td>\n",
       "      <td>0</td>\n",
       "      <td>0</td>\n",
       "      <td>0</td>\n",
       "      <td>0</td>\n",
       "      <td>0</td>\n",
       "      <td>...</td>\n",
       "      <td>0</td>\n",
       "      <td>0</td>\n",
       "      <td>0</td>\n",
       "      <td>0</td>\n",
       "      <td>0</td>\n",
       "      <td>0</td>\n",
       "      <td>0</td>\n",
       "      <td>0</td>\n",
       "      <td>0</td>\n",
       "      <td>0</td>\n",
       "    </tr>\n",
       "    <tr>\n",
       "      <th>949</th>\n",
       "      <td>187436818.0</td>\n",
       "      <td>7.7</td>\n",
       "      <td>60000000.0</td>\n",
       "      <td>170.0</td>\n",
       "      <td>0</td>\n",
       "      <td>0</td>\n",
       "      <td>0</td>\n",
       "      <td>0</td>\n",
       "      <td>0</td>\n",
       "      <td>0</td>\n",
       "      <td>...</td>\n",
       "      <td>0</td>\n",
       "      <td>0</td>\n",
       "      <td>0</td>\n",
       "      <td>0</td>\n",
       "      <td>0</td>\n",
       "      <td>0</td>\n",
       "      <td>0</td>\n",
       "      <td>0</td>\n",
       "      <td>0</td>\n",
       "      <td>0</td>\n",
       "    </tr>\n",
       "    <tr>\n",
       "      <th>9091</th>\n",
       "      <td>64350171.0</td>\n",
       "      <td>5.5</td>\n",
       "      <td>35000000.0</td>\n",
       "      <td>106.0</td>\n",
       "      <td>0</td>\n",
       "      <td>0</td>\n",
       "      <td>0</td>\n",
       "      <td>0</td>\n",
       "      <td>0</td>\n",
       "      <td>0</td>\n",
       "      <td>...</td>\n",
       "      <td>0</td>\n",
       "      <td>0</td>\n",
       "      <td>0</td>\n",
       "      <td>0</td>\n",
       "      <td>0</td>\n",
       "      <td>0</td>\n",
       "      <td>0</td>\n",
       "      <td>0</td>\n",
       "      <td>0</td>\n",
       "      <td>0</td>\n",
       "    </tr>\n",
       "  </tbody>\n",
       "</table>\n",
       "<p>5 rows × 18622 columns</p>\n",
       "</div>"
      ],
      "text/plain": [
       "           revenue  vote_average      budget  runtime  original_language_af  \\\n",
       "id                                                                            \n",
       "862    373554033.0           7.7  30000000.0     81.0                     0   \n",
       "8844   262797249.0           6.9  65000000.0    104.0                     0   \n",
       "31357   81452156.0           6.1  16000000.0    127.0                     0   \n",
       "949    187436818.0           7.7  60000000.0    170.0                     0   \n",
       "9091    64350171.0           5.5  35000000.0    106.0                     0   \n",
       "\n",
       "       original_language_bm  original_language_ca  original_language_cn  \\\n",
       "id                                                                        \n",
       "862                       0                     0                     0   \n",
       "8844                      0                     0                     0   \n",
       "31357                     0                     0                     0   \n",
       "949                       0                     0                     0   \n",
       "9091                      0                     0                     0   \n",
       "\n",
       "       original_language_da  original_language_de  ...  keyword_writer  \\\n",
       "id                                                 ...                   \n",
       "862                       0                     0  ...               0   \n",
       "8844                      0                     0  ...               0   \n",
       "31357                     0                     0  ...               0   \n",
       "949                       0                     0  ...               0   \n",
       "9091                      0                     0  ...               0   \n",
       "\n",
       "       keyword_writing  keyword_wyoming  keyword_yacht  keyword_yakuza  \\\n",
       "id                                                                       \n",
       "862                  0                0              0               0   \n",
       "8844                 0                0              0               0   \n",
       "31357                0                0              0               0   \n",
       "949                  0                0              0               0   \n",
       "9091                 0                0              0               0   \n",
       "\n",
       "       keyword_yuppie  keyword_zombie  keyword_zoo  keyword_любовь  \\\n",
       "id                                                                   \n",
       "862                 0               0            0               0   \n",
       "8844                0               0            0               0   \n",
       "31357               0               0            0               0   \n",
       "949                 0               0            0               0   \n",
       "9091                0               0            0               0   \n",
       "\n",
       "       keyword_绝地奶霸  \n",
       "id                   \n",
       "862               0  \n",
       "8844              0  \n",
       "31357             0  \n",
       "949               0  \n",
       "9091              0  \n",
       "\n",
       "[5 rows x 18622 columns]"
      ]
     },
     "execution_count": 146,
     "metadata": {},
     "output_type": "execute_result"
    }
   ],
   "source": [
    "df_dummies = pd.get_dummies(df.drop(\"title\", axis=1))\n",
    "df_dummies.head()"
   ]
  },
  {
   "cell_type": "markdown",
   "metadata": {},
   "source": [
    "# Create Models "
   ]
  },
  {
   "cell_type": "code",
   "execution_count": 37,
   "metadata": {},
   "outputs": [],
   "source": [
    "def fit_predict(model, X_train, X_test, y_train, y_test):\n",
    "    model.fit(X_train, y_train)\n",
    "    y_pred = model.predict(X_test)\n",
    "    print(np.sqrt(mean_squared_error(y_test, y_pred)))\n",
    "    \n",
    "    return y_pred\n",
    "    \n",
    "def visualize_resids(y_pred, y_test):\n",
    "    resids = y_test - y_pred\n",
    "    plt.scatter(y_test, resids)\n",
    "    plt.xlabel(\"Response\")\n",
    "    plt.ylabel(\"Residual\")"
   ]
  },
  {
   "cell_type": "markdown",
   "metadata": {},
   "source": [
    "## Model without People "
   ]
  },
  {
   "cell_type": "code",
   "execution_count": 38,
   "metadata": {},
   "outputs": [],
   "source": [
    "X = pd.get_dummies(df[[\"budget\", \"runtime\", \"is_franchise\", \"genre\", \"release_month\", \"release_year\"]])\n",
    "y = df[\"revenue\"].values\n",
    "X_train, X_test, y_train, y_test = train_test_split(\n",
    "    X, y, test_size=0.3, random_state=2)\n",
    "scaler = StandardScaler()\n",
    "X_train_scaled = scaler.fit_transform(X_train)\n",
    "X_test_scaled = scaler.transform(X_test)\n",
    "X_scaled = scaler.transform(X)"
   ]
  },
  {
   "cell_type": "code",
   "execution_count": 39,
   "metadata": {},
   "outputs": [
    {
     "name": "stdout",
     "output_type": "stream",
     "text": [
      "103105900.88795343\n"
     ]
    },
    {
     "data": {
      "image/png": "[encoded data removed]",
      "text/plain": [
       "<Figure size 432x288 with 1 Axes>"
      ]
     },
     "metadata": {
      "needs_background": "light"
     },
     "output_type": "display_data"
    }
   ],
   "source": [
    "lasso_model = LassoCV(normalize=True, cv=10)\n",
    "lasso_pred = fit_predict(lasso_model, X_train, X_test, y_train, y_test)\n",
    "visualize_resids(lasso_pred, y_test)"
   ]
  },
  {
   "cell_type": "code",
   "execution_count": 40,
   "metadata": {},
   "outputs": [
    {
     "name": "stdout",
     "output_type": "stream",
     "text": [
      "104215217.80108894\n"
     ]
    },
    {
     "data": {
      "image/png": "[encoded data removed]",
      "text/plain": [
       "<Figure size 432x288 with 1 Axes>"
      ]
     },
     "metadata": {
      "needs_background": "light"
     },
     "output_type": "display_data"
    }
   ],
   "source": [
    "ridge_model = RidgeCV(normalize=True, cv=10)\n",
    "ridge_pred = fit_predict(ridge_model, X_train, X_test, y_train, y_test)\n",
    "visualize_resids(ridge_pred, y_test)"
   ]
  },
  {
   "cell_type": "code",
   "execution_count": 41,
   "metadata": {},
   "outputs": [
    {
     "name": "stdout",
     "output_type": "stream",
     "text": [
      "103105900.88795343\n"
     ]
    },
    {
     "data": {
      "image/png": "[encoded data removed]",
      "text/plain": [
       "<Figure size 432x288 with 1 Axes>"
      ]
     },
     "metadata": {
      "needs_background": "light"
     },
     "output_type": "display_data"
    }
   ],
   "source": [
    "EN_model = ElasticNetCV(l1_ratio=[.1, .5, .7, .9, .95, .99, 1], normalize=True, cv=10)\n",
    "EN_pred = fit_predict(EN_model, X_train, X_test, y_train, y_test)\n",
    "visualize_resids(EN_pred, y_test)"
   ]
  },
  {
   "cell_type": "code",
   "execution_count": 42,
   "metadata": {
    "scrolled": true
   },
   "outputs": [
    {
     "name": "stdout",
     "output_type": "stream",
     "text": [
      "1\n",
      "2\n",
      "3\n",
      "4\n",
      "5\n",
      "6\n",
      "7\n",
      "8\n",
      "9\n",
      "10\n",
      "11\n",
      "12\n",
      "13\n",
      "14\n",
      "15\n",
      "16\n",
      "17\n",
      "18\n",
      "19\n",
      "20\n",
      "21\n",
      "22\n",
      "23\n",
      "24\n",
      "25\n",
      "26\n",
      "27\n",
      "28\n",
      "29\n",
      "30\n",
      "31\n",
      "32\n",
      "33\n",
      "34\n",
      "35\n",
      "36\n",
      "37\n",
      "38\n",
      "39\n",
      "40\n",
      "41\n",
      "42\n",
      "43\n",
      "44\n",
      "45\n",
      "46\n",
      "47\n",
      "48\n",
      "49\n",
      "50\n",
      "51\n",
      "52\n",
      "53\n",
      "54\n",
      "55\n",
      "56\n",
      "57\n",
      "58\n",
      "59\n",
      "60\n",
      "61\n",
      "62\n",
      "63\n",
      "64\n",
      "65\n",
      "66\n",
      "67\n",
      "68\n",
      "69\n",
      "70\n",
      "71\n",
      "72\n",
      "73\n",
      "74\n",
      "75\n",
      "76\n",
      "77\n",
      "78\n",
      "79\n",
      "80\n",
      "81\n",
      "82\n",
      "83\n",
      "84\n",
      "85\n",
      "86\n",
      "87\n",
      "88\n",
      "89\n",
      "90\n",
      "91\n",
      "92\n",
      "93\n",
      "94\n",
      "95\n",
      "96\n",
      "97\n",
      "98\n",
      "99\n",
      "100\n",
      "101\n",
      "102\n",
      "103\n",
      "104\n",
      "105\n",
      "106\n",
      "107\n",
      "108\n",
      "109\n",
      "110\n",
      "111\n",
      "112\n",
      "113\n",
      "114\n",
      "115\n",
      "116\n",
      "117\n",
      "118\n",
      "119\n",
      "120\n",
      "121\n",
      "122\n",
      "123\n",
      "124\n",
      "125\n",
      "126\n",
      "127\n",
      "128\n",
      "129\n",
      "130\n",
      "131\n",
      "132\n",
      "133\n",
      "134\n",
      "135\n"
     ]
    }
   ],
   "source": [
    "max_feats = range(1, len(X.columns) + 1)\n",
    "scores = []\n",
    "for m in max_feats: \n",
    "    print(m)\n",
    "    rf_reduced_cv = RandomForestRegressor(max_features=m)\n",
    "    score = cross_val_score(rf_reduced_cv, X, y, scoring=\"neg_mean_squared_error\", cv=5)\n",
    "    scores.append(score.mean())   "
   ]
  },
  {
   "cell_type": "code",
   "execution_count": 43,
   "metadata": {},
   "outputs": [
    {
     "name": "stdout",
     "output_type": "stream",
     "text": [
      "95574957.66160837\n"
     ]
    }
   ],
   "source": [
    "m = max_feats[scores.index(max(scores))]\n",
    "rf = RandomForestRegressor(max_features=m)\n",
    "rf_pred = fit_predict(rf, X_train, X_test, y_train, y_test)"
   ]
  },
  {
   "cell_type": "markdown",
   "metadata": {},
   "source": [
    "# Model with People "
   ]
  },
  {
   "cell_type": "markdown",
   "metadata": {},
   "source": [
    "## Lasso"
   ]
  },
  {
   "cell_type": "code",
   "execution_count": 90,
   "metadata": {},
   "outputs": [],
   "source": [
    "X = df_dummies.drop([\"revenue\", \"vote_average\"], axis=1)\n",
    "y = df_dummies[\"revenue\"]\n",
    "X_train, X_test, y_train, y_test = train_test_split(\n",
    "    X, y, test_size=0.3, random_state=2)"
   ]
  },
  {
   "cell_type": "code",
   "execution_count": 45,
   "metadata": {},
   "outputs": [
    {
     "name": "stdout",
     "output_type": "stream",
     "text": [
      "105407165.5011167\n"
     ]
    },
    {
     "data": {
      "image/png": "[encoded data removed]",
      "text/plain": [
       "<Figure size 432x288 with 1 Axes>"
      ]
     },
     "metadata": {
      "needs_background": "light"
     },
     "output_type": "display_data"
    }
   ],
   "source": [
    "lasso_model = LassoCV(normalize=True, cv=10)\n",
    "lasso_pred = fit_predict(lasso_model, X_train, X_test, y_train, y_test)\n",
    "visualize_resids(lasso_pred, y_test)"
   ]
  },
  {
   "cell_type": "markdown",
   "metadata": {},
   "source": [
    "## Ridge"
   ]
  },
  {
   "cell_type": "code",
   "execution_count": 46,
   "metadata": {},
   "outputs": [
    {
     "name": "stdout",
     "output_type": "stream",
     "text": [
      "119514260.03451802\n"
     ]
    },
    {
     "data": {
      "image/png": "[encoded data removed]",
      "text/plain": [
       "<Figure size 432x288 with 1 Axes>"
      ]
     },
     "metadata": {
      "needs_background": "light"
     },
     "output_type": "display_data"
    }
   ],
   "source": [
    "ridge_model = RidgeCV(normalize=True, cv=10)\n",
    "ridge_pred = fit_predict(ridge_model, X_train, X_test, y_train, y_test)\n",
    "visualize_resids(ridge_pred, y_test)"
   ]
  },
  {
   "cell_type": "code",
   "execution_count": 47,
   "metadata": {},
   "outputs": [
    {
     "data": {
      "text/plain": [
       "72088238.2469439"
      ]
     },
     "execution_count": 47,
     "metadata": {},
     "output_type": "execute_result"
    }
   ],
   "source": [
    "ridge_resids = pd.DataFrame({\"rev\":y_test, \"pred\":ridge_pred})\n",
    "ridge_resids_50 = ridge_resids[ridge_resids[\"rev\"] <= ridge_resids[\"rev\"].quantile(.5)]\n",
    "np.sqrt(np.mean((ridge_resids_50[\"rev\"] - ridge_resids_50[\"pred\"])**2))"
   ]
  },
  {
   "cell_type": "markdown",
   "metadata": {},
   "source": [
    "# Elastic Net"
   ]
  },
  {
   "cell_type": "code",
   "execution_count": 48,
   "metadata": {},
   "outputs": [
    {
     "name": "stdout",
     "output_type": "stream",
     "text": [
      "105407165.5011167\n"
     ]
    },
    {
     "data": {
      "image/png": "[encoded data removed]",
      "text/plain": [
       "<Figure size 432x288 with 1 Axes>"
      ]
     },
     "metadata": {
      "needs_background": "light"
     },
     "output_type": "display_data"
    }
   ],
   "source": [
    "EN_model = ElasticNetCV(l1_ratio=[.1, .5, .7, .9, .95, .99, 1], normalize=True, cv=10)\n",
    "EN_pred = fit_predict(EN_model, X_train, X_test, y_train, y_test)\n",
    "visualize_resids(EN_pred, y_test)"
   ]
  },
  {
   "cell_type": "code",
   "execution_count": 49,
   "metadata": {},
   "outputs": [
    {
     "data": {
      "text/plain": [
       "29704311.159036607"
      ]
     },
     "execution_count": 49,
     "metadata": {},
     "output_type": "execute_result"
    }
   ],
   "source": [
    "EN_resids = pd.DataFrame({\"rev\":y_test, \"pred\":EN_pred})\n",
    "EN_resids_90 = EN_resids[EN_resids[\"rev\"] <= EN_resids[\"rev\"].quantile(.2)]\n",
    "np.sqrt(np.mean((EN_resids_90[\"rev\"] - EN_resids_90[\"pred\"])**2))"
   ]
  },
  {
   "cell_type": "markdown",
   "metadata": {},
   "source": [
    "# Random Forest"
   ]
  },
  {
   "cell_type": "code",
   "execution_count": 93,
   "metadata": {},
   "outputs": [
    {
     "name": "stdout",
     "output_type": "stream",
     "text": [
      "1862\n",
      "3724\n",
      "5586\n",
      "7448\n",
      "9310\n",
      "11172\n",
      "13034\n",
      "14896\n",
      "16758\n",
      "18620\n"
     ]
    }
   ],
   "source": [
    "max_feats = (np.arange(.1, 1.1, .1) * X.shape[1]).astype(np.int64)\n",
    "scores = []\n",
    "for m in max_feats: \n",
    "    print(m)\n",
    "    rf_reduced_cv = RandomForestRegressor(max_features=m, n_jobs=-1)\n",
    "    score = cross_val_score(rf_reduced_cv, X, y, scoring=\"neg_mean_squared_error\", cv=5)\n",
    "    scores.append(score.mean()) "
   ]
  },
  {
   "cell_type": "code",
   "execution_count": 94,
   "metadata": {},
   "outputs": [
    {
     "data": {
      "text/plain": [
       "[<matplotlib.lines.Line2D at 0x7fc300bd3910>]"
      ]
     },
     "execution_count": 94,
     "metadata": {},
     "output_type": "execute_result"
    },
    {
     "data": {
      "image/png": "[encoded data removed]",
      "text/plain": [
       "<Figure size 432x288 with 1 Axes>"
      ]
     },
     "metadata": {
      "needs_background": "light"
     },
     "output_type": "display_data"
    }
   ],
   "source": [
    "plt.plot(max_feats, scores, drawstyle=\"steps-post\")"
   ]
  },
  {
   "cell_type": "code",
   "execution_count": 100,
   "metadata": {},
   "outputs": [
    {
     "name": "stdout",
     "output_type": "stream",
     "text": [
      "93345079.20137572\n"
     ]
    }
   ],
   "source": [
    "final_rf = RandomForestRegressor(max_features=len(X.columns)//3, n_jobs=-1)\n",
    "final_rf_pred = fit_predict(final_rf, X_train, X_test, y_train, y_test)"
   ]
  },
  {
   "cell_type": "code",
   "execution_count": 101,
   "metadata": {
    "scrolled": true
   },
   "outputs": [
    {
     "data": {
      "text/html": [
       "<div>\n",
       "<style scoped>\n",
       "    .dataframe tbody tr th:only-of-type {\n",
       "        vertical-align: middle;\n",
       "    }\n",
       "\n",
       "    .dataframe tbody tr th {\n",
       "        vertical-align: top;\n",
       "    }\n",
       "\n",
       "    .dataframe thead th {\n",
       "        text-align: right;\n",
       "    }\n",
       "</style>\n",
       "<table border=\"1\" class=\"dataframe\">\n",
       "  <thead>\n",
       "    <tr style=\"text-align: right;\">\n",
       "      <th></th>\n",
       "      <th>index</th>\n",
       "      <th>feature</th>\n",
       "      <th>importance</th>\n",
       "    </tr>\n",
       "  </thead>\n",
       "  <tbody>\n",
       "    <tr>\n",
       "      <th>0</th>\n",
       "      <td>0</td>\n",
       "      <td>budget</td>\n",
       "      <td>0.389189</td>\n",
       "    </tr>\n",
       "    <tr>\n",
       "      <th>1</th>\n",
       "      <td>1</td>\n",
       "      <td>runtime</td>\n",
       "      <td>0.051395</td>\n",
       "    </tr>\n",
       "    <tr>\n",
       "      <th>2</th>\n",
       "      <td>40</td>\n",
       "      <td>is_franchise_True</td>\n",
       "      <td>0.047859</td>\n",
       "    </tr>\n",
       "    <tr>\n",
       "      <th>3</th>\n",
       "      <td>39</td>\n",
       "      <td>is_franchise_False</td>\n",
       "      <td>0.036782</td>\n",
       "    </tr>\n",
       "    <tr>\n",
       "      <th>4</th>\n",
       "      <td>15412</td>\n",
       "      <td>Screenwriter_James Cameron</td>\n",
       "      <td>0.015074</td>\n",
       "    </tr>\n",
       "    <tr>\n",
       "      <th>5</th>\n",
       "      <td>17535</td>\n",
       "      <td>keyword_culture clash</td>\n",
       "      <td>0.012943</td>\n",
       "    </tr>\n",
       "    <tr>\n",
       "      <th>6</th>\n",
       "      <td>3329</td>\n",
       "      <td>actor_1_Sam Worthington</td>\n",
       "      <td>0.010199</td>\n",
       "    </tr>\n",
       "    <tr>\n",
       "      <th>7</th>\n",
       "      <td>12441</td>\n",
       "      <td>Producer_Bryan Burk</td>\n",
       "      <td>0.007232</td>\n",
       "    </tr>\n",
       "    <tr>\n",
       "      <th>8</th>\n",
       "      <td>644</td>\n",
       "      <td>production_company_Ingenious Film Partners</td>\n",
       "      <td>0.006656</td>\n",
       "    </tr>\n",
       "    <tr>\n",
       "      <th>9</th>\n",
       "      <td>4974</td>\n",
       "      <td>actor_2_John Boyega</td>\n",
       "      <td>0.005991</td>\n",
       "    </tr>\n",
       "    <tr>\n",
       "      <th>10</th>\n",
       "      <td>15811</td>\n",
       "      <td>Screenwriter_Ken Daurio</td>\n",
       "      <td>0.005940</td>\n",
       "    </tr>\n",
       "    <tr>\n",
       "      <th>11</th>\n",
       "      <td>10755</td>\n",
       "      <td>Director_James Cameron</td>\n",
       "      <td>0.005667</td>\n",
       "    </tr>\n",
       "    <tr>\n",
       "      <th>12</th>\n",
       "      <td>13939</td>\n",
       "      <td>Producer_Sarah Finn</td>\n",
       "      <td>0.005388</td>\n",
       "    </tr>\n",
       "    <tr>\n",
       "      <th>13</th>\n",
       "      <td>1345</td>\n",
       "      <td>production_company_Walt Disney Pictures</td>\n",
       "      <td>0.005313</td>\n",
       "    </tr>\n",
       "    <tr>\n",
       "      <th>14</th>\n",
       "      <td>18339</td>\n",
       "      <td>keyword_shipwreck</td>\n",
       "      <td>0.004898</td>\n",
       "    </tr>\n",
       "  </tbody>\n",
       "</table>\n",
       "</div>"
      ],
      "text/plain": [
       "    index                                     feature  importance\n",
       "0       0                                      budget    0.389189\n",
       "1       1                                     runtime    0.051395\n",
       "2      40                           is_franchise_True    0.047859\n",
       "3      39                          is_franchise_False    0.036782\n",
       "4   15412                  Screenwriter_James Cameron    0.015074\n",
       "5   17535                       keyword_culture clash    0.012943\n",
       "6    3329                     actor_1_Sam Worthington    0.010199\n",
       "7   12441                         Producer_Bryan Burk    0.007232\n",
       "8     644  production_company_Ingenious Film Partners    0.006656\n",
       "9    4974                         actor_2_John Boyega    0.005991\n",
       "10  15811                     Screenwriter_Ken Daurio    0.005940\n",
       "11  10755                      Director_James Cameron    0.005667\n",
       "12  13939                         Producer_Sarah Finn    0.005388\n",
       "13   1345     production_company_Walt Disney Pictures    0.005313\n",
       "14  18339                           keyword_shipwreck    0.004898"
      ]
     },
     "execution_count": 101,
     "metadata": {},
     "output_type": "execute_result"
    }
   ],
   "source": [
    "feature_importance = pd.DataFrame({\"feature\" : X.columns, \"importance\" : final_rf.feature_importances_})\n",
    "feature_importance = feature_importance.sort_values(by=\"importance\", ascending=False).reset_index()\n",
    "feature_importance.head(15)"
   ]
  },
  {
   "cell_type": "code",
   "execution_count": 107,
   "metadata": {},
   "outputs": [],
   "source": [
    "revenue_predictions = pd.DataFrame()\n",
    "revenue_predictions[\"actual\"] = y_test\n",
    "revenue_predictions[\"predicted\"] = final_rf_pred\n",
    "revenue_predictions.to_csv(\"movie_data/revenue_model.csv\")"
   ]
  },
  {
   "cell_type": "markdown",
   "metadata": {},
   "source": [
    "# Movie Ratings"
   ]
  },
  {
   "cell_type": "code",
   "execution_count": 58,
   "metadata": {},
   "outputs": [],
   "source": [
    "y_ratings = df_dummies[\"vote_average\"]\n",
    "X_train, X_test, y_rating_train, y_rating_test = train_test_split(\n",
    "    X, y_ratings, test_size=0.3, random_state=2)"
   ]
  },
  {
   "cell_type": "markdown",
   "metadata": {},
   "source": [
    "## Lasso"
   ]
  },
  {
   "cell_type": "code",
   "execution_count": 59,
   "metadata": {},
   "outputs": [
    {
     "name": "stdout",
     "output_type": "stream",
     "text": [
      "0.7506336770137917\n"
     ]
    },
    {
     "data": {
      "image/png": "[encoded data removed]",
      "text/plain": [
       "<Figure size 432x288 with 1 Axes>"
      ]
     },
     "metadata": {
      "needs_background": "light"
     },
     "output_type": "display_data"
    }
   ],
   "source": [
    "lasso_model = LassoCV(normalize=True, cv=10)\n",
    "lasso_pred = fit_predict(lasso_model, X_train, X_test, y_rating_train, y_rating_test)\n",
    "visualize_resids(lasso_pred, y_rating_test)"
   ]
  },
  {
   "cell_type": "markdown",
   "metadata": {},
   "source": [
    "## Ridge"
   ]
  },
  {
   "cell_type": "code",
   "execution_count": 65,
   "metadata": {},
   "outputs": [
    {
     "name": "stdout",
     "output_type": "stream",
     "text": [
      "0.7681271071877057\n"
     ]
    },
    {
     "data": {
      "image/png": "[encoded data removed]",
      "text/plain": [
       "<Figure size 432x288 with 1 Axes>"
      ]
     },
     "metadata": {
      "needs_background": "light"
     },
     "output_type": "display_data"
    }
   ],
   "source": [
    "ridge_model = RidgeCV(normalize=True, cv=10)\n",
    "ridge_pred = fit_predict(ridge_model, X_train, X_test, y_rating_train, y_rating_test)\n",
    "visualize_resids(ridge_pred, y_rating_test)"
   ]
  },
  {
   "cell_type": "markdown",
   "metadata": {},
   "source": [
    "## Random Forest"
   ]
  },
  {
   "cell_type": "code",
   "execution_count": 75,
   "metadata": {
    "scrolled": true
   },
   "outputs": [
    {
     "name": "stdout",
     "output_type": "stream",
     "text": [
      "1862\n",
      "3724\n",
      "5586\n",
      "7448\n",
      "9310\n",
      "11172\n",
      "13034\n",
      "14896\n",
      "16758\n",
      "18620\n"
     ]
    }
   ],
   "source": [
    "max_feats = (np.arange(.1, 1.1, .1) * X.shape[1]).astype(np.int64)\n",
    "scores = []\n",
    "for m in max_feats: \n",
    "    print(m)\n",
    "    rf_reduced_cv = RandomForestRegressor(max_features=m, n_jobs=-1)\n",
    "    score = cross_val_score(rf_reduced_cv, X, y_ratings, scoring=\"neg_mean_squared_error\", cv=5)\n",
    "    scores.append(score.mean()) "
   ]
  },
  {
   "cell_type": "code",
   "execution_count": 76,
   "metadata": {},
   "outputs": [
    {
     "data": {
      "text/plain": [
       "[<matplotlib.lines.Line2D at 0x7fc3008d8880>]"
      ]
     },
     "execution_count": 76,
     "metadata": {},
     "output_type": "execute_result"
    },
    {
     "data": {
      "image/png": "[encoded data removed]",
      "text/plain": [
       "<Figure size 432x288 with 1 Axes>"
      ]
     },
     "metadata": {
      "needs_background": "light"
     },
     "output_type": "display_data"
    }
   ],
   "source": [
    "plt.plot(max_feats, scores, drawstyle=\"steps-post\")"
   ]
  },
  {
   "cell_type": "code",
   "execution_count": 78,
   "metadata": {},
   "outputs": [
    {
     "data": {
      "text/plain": [
       "1862"
      ]
     },
     "execution_count": 78,
     "metadata": {},
     "output_type": "execute_result"
    }
   ],
   "source": [
    "best_m = max_feats[scores.index(max(scores))]\n",
    "best_m"
   ]
  },
  {
   "cell_type": "code",
   "execution_count": 79,
   "metadata": {},
   "outputs": [
    {
     "name": "stdout",
     "output_type": "stream",
     "text": [
      "186\n",
      "372\n",
      "558\n",
      "744\n",
      "931\n",
      "1117\n",
      "1303\n",
      "1489\n",
      "1675\n",
      "1861\n"
     ]
    }
   ],
   "source": [
    "max_feats = (np.arange(.01, 0.11, .01) * X.shape[1]).astype(np.int64)\n",
    "scores = []\n",
    "for m in max_feats: \n",
    "    print(m)\n",
    "    rf_reduced_cv = RandomForestRegressor(max_features=m, n_jobs=-1)\n",
    "    score = cross_val_score(rf_reduced_cv, X, y_ratings, scoring=\"neg_mean_squared_error\", cv=5)\n",
    "    scores.append(score.mean()) "
   ]
  },
  {
   "cell_type": "code",
   "execution_count": 85,
   "metadata": {},
   "outputs": [
    {
     "data": {
      "text/plain": [
       "[<matplotlib.lines.Line2D at 0x7fc3b30d3c70>]"
      ]
     },
     "execution_count": 85,
     "metadata": {},
     "output_type": "execute_result"
    },
    {
     "data": {
      "image/png": "[encoded data removed]",
      "text/plain": [
       "<Figure size 432x288 with 1 Axes>"
      ]
     },
     "metadata": {
      "needs_background": "light"
     },
     "output_type": "display_data"
    }
   ],
   "source": [
    "plt.plot(max_feats, scores, drawstyle=\"steps-post\")"
   ]
  },
  {
   "cell_type": "code",
   "execution_count": 86,
   "metadata": {},
   "outputs": [],
   "source": [
    "m = max_feats[scores.index(max(scores))]"
   ]
  },
  {
   "cell_type": "code",
   "execution_count": 84,
   "metadata": {},
   "outputs": [
    {
     "name": "stdout",
     "output_type": "stream",
     "text": [
      "0.7284383273791075\n"
     ]
    }
   ],
   "source": [
    "rf_ratings_cv = RandomForestRegressor(max_features= n_jobs=-1)\n",
    "rf_ratings_cv.fit(X_train, y_rating_train)\n",
    "rf_ratings_pred = rf_ratings_cv.predict(X_test)\n",
    "print(np.sqrt(mean_squared_error(y_rating_test, rf_ratings_pred)))"
   ]
  },
  {
   "cell_type": "code",
   "execution_count": 87,
   "metadata": {},
   "outputs": [
    {
     "data": {
      "text/plain": [
       "(array([  4.,   3.,   9., 132., 339., 383., 357., 237.,  86.,  10.]),\n",
       " array([4.659 , 4.9501, 5.2412, 5.5323, 5.8234, 6.1145, 6.4056, 6.6967,\n",
       "        6.9878, 7.2789, 7.57  ]),\n",
       " <a list of 10 Patch objects>)"
      ]
     },
     "execution_count": 87,
     "metadata": {},
     "output_type": "execute_result"
    },
    {
     "data": {
      "image/png": "[encoded data removed]",
      "text/plain": [
       "<Figure size 432x288 with 1 Axes>"
      ]
     },
     "metadata": {
      "needs_background": "light"
     },
     "output_type": "display_data"
    }
   ],
   "source": [
    "plt.hist(rf_ratings_pred)"
   ]
  },
  {
   "cell_type": "code",
   "execution_count": 88,
   "metadata": {},
   "outputs": [
    {
     "data": {
      "text/plain": [
       "(array([  1.,   5.,  12.,  24., 122., 259., 486., 389., 217.,  45.]),\n",
       " array([2.  , 2.65, 3.3 , 3.95, 4.6 , 5.25, 5.9 , 6.55, 7.2 , 7.85, 8.5 ]),\n",
       " <a list of 10 Patch objects>)"
      ]
     },
     "execution_count": 88,
     "metadata": {},
     "output_type": "execute_result"
    },
    {
     "data": {
      "image/png": "[encoded data removed]",
      "text/plain": [
       "<Figure size 432x288 with 1 Axes>"
      ]
     },
     "metadata": {
      "needs_background": "light"
     },
     "output_type": "display_data"
    }
   ],
   "source": [
    "plt.hist(y_rating_test)"
   ]
  },
  {
   "cell_type": "code",
   "execution_count": 89,
   "metadata": {},
   "outputs": [
    {
     "data": {
      "text/plain": [
       "(array([  1.,   5.,   7.,  17.,  85., 230., 469., 490., 209.,  47.]),\n",
       " array([-4.016 , -3.4321, -2.8482, -2.2643, -1.6804, -1.0965, -0.5126,\n",
       "         0.0713,  0.6552,  1.2391,  1.823 ]),\n",
       " <a list of 10 Patch objects>)"
      ]
     },
     "execution_count": 89,
     "metadata": {},
     "output_type": "execute_result"
    },
    {
     "data": {
      "image/png": "[encoded data removed]",
      "text/plain": [
       "<Figure size 432x288 with 1 Axes>"
      ]
     },
     "metadata": {
      "needs_background": "light"
     },
     "output_type": "display_data"
    }
   ],
   "source": [
    "plt.hist(y_rating_test - rf_ratings_pred)"
   ]
  },
  {
   "cell_type": "code",
   "execution_count": 74,
   "metadata": {
    "scrolled": true
   },
   "outputs": [
    {
     "data": {
      "text/html": [
       "<div>\n",
       "<style scoped>\n",
       "    .dataframe tbody tr th:only-of-type {\n",
       "        vertical-align: middle;\n",
       "    }\n",
       "\n",
       "    .dataframe tbody tr th {\n",
       "        vertical-align: top;\n",
       "    }\n",
       "\n",
       "    .dataframe thead th {\n",
       "        text-align: right;\n",
       "    }\n",
       "</style>\n",
       "<table border=\"1\" class=\"dataframe\">\n",
       "  <thead>\n",
       "    <tr style=\"text-align: right;\">\n",
       "      <th></th>\n",
       "      <th>feature</th>\n",
       "      <th>importance</th>\n",
       "    </tr>\n",
       "  </thead>\n",
       "  <tbody>\n",
       "    <tr>\n",
       "      <th>1</th>\n",
       "      <td>runtime</td>\n",
       "      <td>0.098330</td>\n",
       "    </tr>\n",
       "    <tr>\n",
       "      <th>0</th>\n",
       "      <td>budget</td>\n",
       "      <td>0.043838</td>\n",
       "    </tr>\n",
       "    <tr>\n",
       "      <th>47</th>\n",
       "      <td>genre_Drama</td>\n",
       "      <td>0.017661</td>\n",
       "    </tr>\n",
       "    <tr>\n",
       "      <th>52</th>\n",
       "      <td>genre_Horror</td>\n",
       "      <td>0.009937</td>\n",
       "    </tr>\n",
       "    <tr>\n",
       "      <th>13640</th>\n",
       "      <td>Producer_None</td>\n",
       "      <td>0.009149</td>\n",
       "    </tr>\n",
       "    <tr>\n",
       "      <th>41</th>\n",
       "      <td>genre_Action</td>\n",
       "      <td>0.007932</td>\n",
       "    </tr>\n",
       "    <tr>\n",
       "      <th>9</th>\n",
       "      <td>original_language_en</td>\n",
       "      <td>0.007562</td>\n",
       "    </tr>\n",
       "    <tr>\n",
       "      <th>44</th>\n",
       "      <td>genre_Comedy</td>\n",
       "      <td>0.006680</td>\n",
       "    </tr>\n",
       "    <tr>\n",
       "      <th>17227</th>\n",
       "      <td>keyword_None</td>\n",
       "      <td>0.006404</td>\n",
       "    </tr>\n",
       "    <tr>\n",
       "      <th>1474</th>\n",
       "      <td>country_United Kingdom</td>\n",
       "      <td>0.003838</td>\n",
       "    </tr>\n",
       "    <tr>\n",
       "      <th>1488</th>\n",
       "      <td>release_month_12</td>\n",
       "      <td>0.003528</td>\n",
       "    </tr>\n",
       "    <tr>\n",
       "      <th>11144</th>\n",
       "      <td>Director_Lawrence Kane</td>\n",
       "      <td>0.003258</td>\n",
       "    </tr>\n",
       "    <tr>\n",
       "      <th>1475</th>\n",
       "      <td>country_United States of America</td>\n",
       "      <td>0.003037</td>\n",
       "    </tr>\n",
       "    <tr>\n",
       "      <th>43</th>\n",
       "      <td>genre_Animation</td>\n",
       "      <td>0.002755</td>\n",
       "    </tr>\n",
       "    <tr>\n",
       "      <th>39</th>\n",
       "      <td>is_franchise_False</td>\n",
       "      <td>0.002694</td>\n",
       "    </tr>\n",
       "    <tr>\n",
       "      <th>40</th>\n",
       "      <td>is_franchise_True</td>\n",
       "      <td>0.002617</td>\n",
       "    </tr>\n",
       "    <tr>\n",
       "      <th>1303</th>\n",
       "      <td>production_company_United Artists</td>\n",
       "      <td>0.002543</td>\n",
       "    </tr>\n",
       "    <tr>\n",
       "      <th>45</th>\n",
       "      <td>genre_Crime</td>\n",
       "      <td>0.002404</td>\n",
       "    </tr>\n",
       "    <tr>\n",
       "      <th>12085</th>\n",
       "      <td>Director_Uwe Boll</td>\n",
       "      <td>0.002312</td>\n",
       "    </tr>\n",
       "    <tr>\n",
       "      <th>1477</th>\n",
       "      <td>release_month_1</td>\n",
       "      <td>0.002228</td>\n",
       "    </tr>\n",
       "    <tr>\n",
       "      <th>1461</th>\n",
       "      <td>country_Russia</td>\n",
       "      <td>0.002215</td>\n",
       "    </tr>\n",
       "    <tr>\n",
       "      <th>1478</th>\n",
       "      <td>release_month_2</td>\n",
       "      <td>0.002147</td>\n",
       "    </tr>\n",
       "    <tr>\n",
       "      <th>1582</th>\n",
       "      <td>release_year_2012</td>\n",
       "      <td>0.002048</td>\n",
       "    </tr>\n",
       "    <tr>\n",
       "      <th>1584</th>\n",
       "      <td>release_year_2014</td>\n",
       "      <td>0.001843</td>\n",
       "    </tr>\n",
       "    <tr>\n",
       "      <th>7786</th>\n",
       "      <td>actor_3_Irene Bedard</td>\n",
       "      <td>0.001746</td>\n",
       "    </tr>\n",
       "  </tbody>\n",
       "</table>\n",
       "</div>"
      ],
      "text/plain": [
       "                                 feature  importance\n",
       "1                                runtime    0.098330\n",
       "0                                 budget    0.043838\n",
       "47                           genre_Drama    0.017661\n",
       "52                          genre_Horror    0.009937\n",
       "13640                      Producer_None    0.009149\n",
       "41                          genre_Action    0.007932\n",
       "9                   original_language_en    0.007562\n",
       "44                          genre_Comedy    0.006680\n",
       "17227                       keyword_None    0.006404\n",
       "1474              country_United Kingdom    0.003838\n",
       "1488                    release_month_12    0.003528\n",
       "11144             Director_Lawrence Kane    0.003258\n",
       "1475    country_United States of America    0.003037\n",
       "43                       genre_Animation    0.002755\n",
       "39                    is_franchise_False    0.002694\n",
       "40                     is_franchise_True    0.002617\n",
       "1303   production_company_United Artists    0.002543\n",
       "45                           genre_Crime    0.002404\n",
       "12085                  Director_Uwe Boll    0.002312\n",
       "1477                     release_month_1    0.002228\n",
       "1461                      country_Russia    0.002215\n",
       "1478                     release_month_2    0.002147\n",
       "1582                   release_year_2012    0.002048\n",
       "1584                   release_year_2014    0.001843\n",
       "7786                actor_3_Irene Bedard    0.001746"
      ]
     },
     "execution_count": 74,
     "metadata": {},
     "output_type": "execute_result"
    }
   ],
   "source": [
    "feature_importance = pd.DataFrame()\n",
    "feature_importance[\"feature\"] = X.columns\n",
    "feature_importance[\"importance\"] = rf_ratings_cv.feature_importances_\n",
    "feature_importance.sort_values(by=\"importance\", ascending=False).iloc[:25]"
   ]
  },
  {
   "cell_type": "code",
   "execution_count": 106,
   "metadata": {},
   "outputs": [],
   "source": [
    "rating_predictions = pd.DataFrame()\n",
    "rating_predictions[\"actual\"] = y_rating_test\n",
    "rating_predictions[\"predicted\"] = rf_ratings_pred\n",
    "rating_predictions.to_csv(\"movie_data/rating_model.csv\")"
   ]
  },
  {
   "cell_type": "markdown",
   "metadata": {},
   "source": [
    "# Case Study"
   ]
  },
  {
   "cell_type": "code",
   "execution_count": 156,
   "metadata": {},
   "outputs": [],
   "source": [
    "def get_movie_prediction(revenue_model, rating_model, movie_index, X):\n",
    "    movie_row = X.loc[movie_index]\n",
    "    actual_revenue = movie_row[\"revenue\"].iloc[0]\n",
    "    actual_rating = movie_row[\"vote_average\"].iloc[0]\n",
    "    pred_rev = revenue_model.predict(movie_row.drop([\"revenue\", \"vote_average\"], axis=1))[0].astype(float)\n",
    "    pred_rating = rating_model.predict(movie_row.drop([\"revenue\", \"vote_average\"], axis=1))[0].astype(float)\n",
    "    \n",
    "    print(\"Actual Revenue: \\t\", actual_revenue)\n",
    "    print(\"Predicted Revenue: \\t\", pred_rev)\n",
    "    print()\n",
    "    print(\"Actual Rating: \\t\\t\", actual_rating)\n",
    "    print(\"Predicted Rating: \\t\", pred_rating)"
   ]
  },
  {
   "cell_type": "markdown",
   "metadata": {},
   "source": [
    "### Get Out\n",
    "\n",
    "lower budget, not huge blockbuster actors or director"
   ]
  },
  {
   "cell_type": "code",
   "execution_count": 157,
   "metadata": {},
   "outputs": [
    {
     "name": "stdout",
     "output_type": "stream",
     "text": [
      "Actual Revenue: \t 252434250.0\n",
      "Predicted Revenue: \t 162096225.51\n",
      "\n",
      "Actual Rating: \t\t 7.2\n",
      "Predicted Rating: \t 6.912000000000003\n"
     ]
    }
   ],
   "source": [
    "get_movie_prediction(final_rf, rf_ratings_cv, get_out_row, df_dummies)"
   ]
  },
  {
   "cell_type": "markdown",
   "metadata": {},
   "source": [
    "### Avatar\n",
    "\n",
    "highest grossing"
   ]
  },
  {
   "cell_type": "code",
   "execution_count": 158,
   "metadata": {},
   "outputs": [
    {
     "name": "stdout",
     "output_type": "stream",
     "text": [
      "Actual Revenue: \t 2787965087.0\n",
      "Predicted Revenue: \t 2171854541.44\n",
      "\n",
      "Actual Rating: \t\t 7.2\n",
      "Predicted Rating: \t 7.056000000000008\n"
     ]
    }
   ],
   "source": [
    "get_movie_prediction(final_rf, rf_ratings_cv, avatar_row, df_dummies)"
   ]
  },
  {
   "cell_type": "markdown",
   "metadata": {},
   "source": [
    "### The Good Dinosaur\n",
    "known faliure from studio with consistent success"
   ]
  },
  {
   "cell_type": "code",
   "execution_count": 163,
   "metadata": {},
   "outputs": [
    {
     "name": "stdout",
     "output_type": "stream",
     "text": [
      "Actual Revenue: \t 331926147.0\n",
      "Predicted Revenue: \t 413615799.15\n",
      "\n",
      "Actual Rating: \t\t 6.6\n",
      "Predicted Rating: \t 6.276999999999999\n"
     ]
    }
   ],
   "source": [
    "get_movie_prediction(final_rf, rf_ratings_cv, good_dino_row, df_dummies)"
   ]
  },
  {
   "cell_type": "markdown",
   "metadata": {},
   "source": [
    "### Nightcrawler\n",
    "\n",
    "Less than average revenue, chosen with rng"
   ]
  },
  {
   "cell_type": "code",
   "execution_count": 171,
   "metadata": {},
   "outputs": [
    {
     "name": "stdout",
     "output_type": "stream",
     "text": [
      "Actual Revenue: \t 38697217.0\n",
      "Predicted Revenue: \t 32918238.05\n",
      "\n",
      "Actual Rating: \t\t 7.6\n",
      "Predicted Rating: \t 7.376000000000009\n"
     ]
    }
   ],
   "source": [
    "get_movie_prediction(final_rf, rf_ratings_cv, nightcrawler_row, df_dummies)"
   ]
  },
  {
   "cell_type": "markdown",
   "metadata": {},
   "source": [
    "### Mars Needs Moms\n",
    "\n",
    "Famous flop"
   ]
  },
  {
   "cell_type": "code",
   "execution_count": 168,
   "metadata": {},
   "outputs": [
    {
     "name": "stdout",
     "output_type": "stream",
     "text": [
      "Actual Revenue: \t 38992758.0\n",
      "Predicted Revenue: \t 99453628.21\n",
      "\n",
      "Actual Rating: \t\t 5.6\n",
      "Predicted Rating: \t 5.7400000000000055\n"
     ]
    }
   ],
   "source": [
    "get_movie_prediction(final_rf, rf_ratings_cv, mars_row, df_dummies)"
   ]
  }
 ],
 "metadata": {
  "kernelspec": {
   "display_name": "Python 3",
   "language": "python",
   "name": "python3"
  },
  "language_info": {
   "codemirror_mode": {
    "name": "ipython",
    "version": 3
   },
   "file_extension": ".py",
   "mimetype": "text/x-python",
   "name": "python",
   "nbconvert_exporter": "python",
   "pygments_lexer": "ipython3",
   "version": "3.8.3"
  }
 },
 "nbformat": 4,
 "nbformat_minor": 4
}
