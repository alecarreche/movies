{
 "cells": [
  {
   "cell_type": "code",
   "execution_count": 179,
   "metadata": {},
   "outputs": [],
   "source": [
    "# preprocessing\n",
    "import pandas as pd\n",
    "import numpy as np\n",
    "from sklearn.model_selection import train_test_split\n",
    "\n",
    "# models\n",
    "from sklearn.linear_model import LassoCV\n",
    "from sklearn.linear_model import RidgeCV\n",
    "from sklearn.linear_model import ElasticNetCV\n",
    "from sklearn.linear_model import LassoLarsCV\n",
    "\n",
    "# success\n",
    "from sklearn.metrics import mean_squared_error\n",
    "from sklearn.metrics import explained_variance_score\n",
    "\n",
    "import matplotlib.pyplot as plt"
   ]
  },
  {
   "cell_type": "markdown",
   "metadata": {},
   "source": [
    "# Preprocessing"
   ]
  },
  {
   "cell_type": "code",
   "execution_count": 34,
   "metadata": {},
   "outputs": [
    {
     "name": "stdout",
     "output_type": "stream",
     "text": [
      "<class 'pandas.core.frame.DataFrame'>\n",
      "Int64Index: 5255 entries, 862 to 63281\n",
      "Data columns (total 19 columns):\n",
      " #   Column              Non-Null Count  Dtype  \n",
      "---  ------              --------------  -----  \n",
      " 0   Unnamed: 0          5255 non-null   int64  \n",
      " 1   revenue             5255 non-null   float64\n",
      " 2   vote_average        5255 non-null   float64\n",
      " 3   budget              5255 non-null   float64\n",
      " 4   runtime             5255 non-null   float64\n",
      " 5   original_language   5255 non-null   object \n",
      " 6   is_franchise        5255 non-null   bool   \n",
      " 7   genre               5255 non-null   object \n",
      " 8   production_company  5255 non-null   object \n",
      " 9   country             5255 non-null   object \n",
      " 10  release_month       5255 non-null   int64  \n",
      " 11  release_year        5255 non-null   int64  \n",
      " 12  actor_1             5255 non-null   object \n",
      " 13  actor_2             5255 non-null   object \n",
      " 14  actor_3             5255 non-null   object \n",
      " 15  Director            5255 non-null   object \n",
      " 16  Producer            5255 non-null   object \n",
      " 17  Screenwriter        5255 non-null   object \n",
      " 18  keyword             5255 non-null   object \n",
      "dtypes: bool(1), float64(4), int64(3), object(11)\n",
      "memory usage: 785.2+ KB\n"
     ]
    }
   ],
   "source": [
    "df = pd.read_csv(\"movie_data/cleaned_data.csv\", index_col=\"id\").drop(\"title\", axis=1)\n",
    "df.info()"
   ]
  },
  {
   "cell_type": "code",
   "execution_count": 35,
   "metadata": {},
   "outputs": [
    {
     "name": "stdout",
     "output_type": "stream",
     "text": [
      "<class 'pandas.core.frame.DataFrame'>\n",
      "Int64Index: 5255 entries, 862 to 63281\n",
      "Data columns (total 19 columns):\n",
      " #   Column              Non-Null Count  Dtype   \n",
      "---  ------              --------------  -----   \n",
      " 0   Unnamed: 0          5255 non-null   int64   \n",
      " 1   revenue             5255 non-null   float64 \n",
      " 2   vote_average        5255 non-null   float64 \n",
      " 3   budget              5255 non-null   float64 \n",
      " 4   runtime             5255 non-null   float64 \n",
      " 5   original_language   5255 non-null   category\n",
      " 6   is_franchise        5255 non-null   category\n",
      " 7   genre               5255 non-null   category\n",
      " 8   production_company  5255 non-null   category\n",
      " 9   country             5255 non-null   category\n",
      " 10  release_month       5255 non-null   category\n",
      " 11  release_year        5255 non-null   category\n",
      " 12  actor_1             5255 non-null   category\n",
      " 13  actor_2             5255 non-null   category\n",
      " 14  actor_3             5255 non-null   category\n",
      " 15  Director            5255 non-null   category\n",
      " 16  Producer            5255 non-null   category\n",
      " 17  Screenwriter        5255 non-null   category\n",
      " 18  keyword             5255 non-null   category\n",
      "dtypes: category(14), float64(4), int64(1)\n",
      "memory usage: 1.1 MB\n"
     ]
    }
   ],
   "source": [
    "df.iloc[:,5:] = df.iloc[:,5:].astype(\"category\")\n",
    "df.info()"
   ]
  },
  {
   "cell_type": "code",
   "execution_count": 36,
   "metadata": {},
   "outputs": [
    {
     "data": {
      "text/html": [
       "<div>\n",
       "<style scoped>\n",
       "    .dataframe tbody tr th:only-of-type {\n",
       "        vertical-align: middle;\n",
       "    }\n",
       "\n",
       "    .dataframe tbody tr th {\n",
       "        vertical-align: top;\n",
       "    }\n",
       "\n",
       "    .dataframe thead th {\n",
       "        text-align: right;\n",
       "    }\n",
       "</style>\n",
       "<table border=\"1\" class=\"dataframe\">\n",
       "  <thead>\n",
       "    <tr style=\"text-align: right;\">\n",
       "      <th></th>\n",
       "      <th>revenue</th>\n",
       "      <th>vote_average</th>\n",
       "      <th>budget</th>\n",
       "      <th>runtime</th>\n",
       "      <th>original_language</th>\n",
       "      <th>is_franchise</th>\n",
       "      <th>genre</th>\n",
       "      <th>production_company</th>\n",
       "      <th>country</th>\n",
       "      <th>release_month</th>\n",
       "      <th>release_year</th>\n",
       "      <th>actor_1</th>\n",
       "      <th>actor_2</th>\n",
       "      <th>actor_3</th>\n",
       "      <th>Director</th>\n",
       "      <th>Producer</th>\n",
       "      <th>Screenwriter</th>\n",
       "      <th>keyword</th>\n",
       "    </tr>\n",
       "    <tr>\n",
       "      <th>id</th>\n",
       "      <th></th>\n",
       "      <th></th>\n",
       "      <th></th>\n",
       "      <th></th>\n",
       "      <th></th>\n",
       "      <th></th>\n",
       "      <th></th>\n",
       "      <th></th>\n",
       "      <th></th>\n",
       "      <th></th>\n",
       "      <th></th>\n",
       "      <th></th>\n",
       "      <th></th>\n",
       "      <th></th>\n",
       "      <th></th>\n",
       "      <th></th>\n",
       "      <th></th>\n",
       "      <th></th>\n",
       "    </tr>\n",
       "  </thead>\n",
       "  <tbody>\n",
       "    <tr>\n",
       "      <th>862</th>\n",
       "      <td>373554033.0</td>\n",
       "      <td>7.7</td>\n",
       "      <td>30000000.0</td>\n",
       "      <td>81.0</td>\n",
       "      <td>en</td>\n",
       "      <td>True</td>\n",
       "      <td>Animation</td>\n",
       "      <td>Pixar Animation Studios</td>\n",
       "      <td>United States of America</td>\n",
       "      <td>10</td>\n",
       "      <td>1995</td>\n",
       "      <td>Tom Hanks</td>\n",
       "      <td>Tim Allen</td>\n",
       "      <td>Don Rickles</td>\n",
       "      <td>John Lasseter</td>\n",
       "      <td>Bonnie Arnold</td>\n",
       "      <td>Joss Whedon</td>\n",
       "      <td>jealousy</td>\n",
       "    </tr>\n",
       "    <tr>\n",
       "      <th>8844</th>\n",
       "      <td>262797249.0</td>\n",
       "      <td>6.9</td>\n",
       "      <td>65000000.0</td>\n",
       "      <td>104.0</td>\n",
       "      <td>en</td>\n",
       "      <td>False</td>\n",
       "      <td>Adventure</td>\n",
       "      <td>TriStar Pictures</td>\n",
       "      <td>United States of America</td>\n",
       "      <td>12</td>\n",
       "      <td>1995</td>\n",
       "      <td>Robin Williams</td>\n",
       "      <td>Jonathan Hyde</td>\n",
       "      <td>Kirsten Dunst</td>\n",
       "      <td>Joe Johnston</td>\n",
       "      <td>Larry J. Franco</td>\n",
       "      <td>Jonathan Hensleigh</td>\n",
       "      <td>board game</td>\n",
       "    </tr>\n",
       "    <tr>\n",
       "      <th>31357</th>\n",
       "      <td>81452156.0</td>\n",
       "      <td>6.1</td>\n",
       "      <td>16000000.0</td>\n",
       "      <td>127.0</td>\n",
       "      <td>en</td>\n",
       "      <td>False</td>\n",
       "      <td>Comedy</td>\n",
       "      <td>Twentieth Century Fox Film Corporation</td>\n",
       "      <td>United States of America</td>\n",
       "      <td>12</td>\n",
       "      <td>1995</td>\n",
       "      <td>Whitney Houston</td>\n",
       "      <td>Angela Bassett</td>\n",
       "      <td>Loretta Devine</td>\n",
       "      <td>Forest Whitaker</td>\n",
       "      <td>Ronald Bass</td>\n",
       "      <td>Ronald Bass</td>\n",
       "      <td>based on novel</td>\n",
       "    </tr>\n",
       "    <tr>\n",
       "      <th>949</th>\n",
       "      <td>187436818.0</td>\n",
       "      <td>7.7</td>\n",
       "      <td>60000000.0</td>\n",
       "      <td>170.0</td>\n",
       "      <td>en</td>\n",
       "      <td>False</td>\n",
       "      <td>Action</td>\n",
       "      <td>Regency Enterprises</td>\n",
       "      <td>United States of America</td>\n",
       "      <td>12</td>\n",
       "      <td>1995</td>\n",
       "      <td>Al Pacino</td>\n",
       "      <td>Robert De Niro</td>\n",
       "      <td>Val Kilmer</td>\n",
       "      <td>Michael Mann</td>\n",
       "      <td>Art Linson</td>\n",
       "      <td>Michael Mann</td>\n",
       "      <td>robbery</td>\n",
       "    </tr>\n",
       "    <tr>\n",
       "      <th>9091</th>\n",
       "      <td>64350171.0</td>\n",
       "      <td>5.5</td>\n",
       "      <td>35000000.0</td>\n",
       "      <td>106.0</td>\n",
       "      <td>en</td>\n",
       "      <td>False</td>\n",
       "      <td>Action</td>\n",
       "      <td>Universal Pictures</td>\n",
       "      <td>United States of America</td>\n",
       "      <td>12</td>\n",
       "      <td>1995</td>\n",
       "      <td>Jean-Claude Van Damme</td>\n",
       "      <td>Powers Boothe</td>\n",
       "      <td>Dorian Harewood</td>\n",
       "      <td>Peter Hyams</td>\n",
       "      <td>Moshe Diamant</td>\n",
       "      <td>Karen Elise Baldwin</td>\n",
       "      <td>terrorist</td>\n",
       "    </tr>\n",
       "  </tbody>\n",
       "</table>\n",
       "</div>"
      ],
      "text/plain": [
       "           revenue  vote_average      budget  runtime original_language  \\\n",
       "id                                                                        \n",
       "862    373554033.0           7.7  30000000.0     81.0                en   \n",
       "8844   262797249.0           6.9  65000000.0    104.0                en   \n",
       "31357   81452156.0           6.1  16000000.0    127.0                en   \n",
       "949    187436818.0           7.7  60000000.0    170.0                en   \n",
       "9091    64350171.0           5.5  35000000.0    106.0                en   \n",
       "\n",
       "      is_franchise      genre                      production_company  \\\n",
       "id                                                                      \n",
       "862           True  Animation                 Pixar Animation Studios   \n",
       "8844         False  Adventure                        TriStar Pictures   \n",
       "31357        False     Comedy  Twentieth Century Fox Film Corporation   \n",
       "949          False     Action                     Regency Enterprises   \n",
       "9091         False     Action                      Universal Pictures   \n",
       "\n",
       "                        country release_month release_year  \\\n",
       "id                                                           \n",
       "862    United States of America            10         1995   \n",
       "8844   United States of America            12         1995   \n",
       "31357  United States of America            12         1995   \n",
       "949    United States of America            12         1995   \n",
       "9091   United States of America            12         1995   \n",
       "\n",
       "                     actor_1         actor_2          actor_3  \\\n",
       "id                                                              \n",
       "862                Tom Hanks       Tim Allen      Don Rickles   \n",
       "8844          Robin Williams   Jonathan Hyde    Kirsten Dunst   \n",
       "31357        Whitney Houston  Angela Bassett   Loretta Devine   \n",
       "949                Al Pacino  Robert De Niro       Val Kilmer   \n",
       "9091   Jean-Claude Van Damme   Powers Boothe  Dorian Harewood   \n",
       "\n",
       "              Director         Producer         Screenwriter         keyword  \n",
       "id                                                                            \n",
       "862      John Lasseter    Bonnie Arnold          Joss Whedon        jealousy  \n",
       "8844      Joe Johnston  Larry J. Franco   Jonathan Hensleigh      board game  \n",
       "31357  Forest Whitaker      Ronald Bass          Ronald Bass  based on novel  \n",
       "949       Michael Mann       Art Linson         Michael Mann         robbery  \n",
       "9091       Peter Hyams    Moshe Diamant  Karen Elise Baldwin       terrorist  "
      ]
     },
     "execution_count": 36,
     "metadata": {},
     "output_type": "execute_result"
    }
   ],
   "source": [
    "df = df.iloc[: , 1:]\n",
    "df.head()"
   ]
  },
  {
   "cell_type": "code",
   "execution_count": 111,
   "metadata": {},
   "outputs": [],
   "source": [
    "mask = (df[\"revenue\"] > 1000) & (df[\"budget\"] > 1000)\n",
    "df = df[mask]"
   ]
  },
  {
   "cell_type": "code",
   "execution_count": 112,
   "metadata": {},
   "outputs": [
    {
     "data": {
      "text/html": [
       "<div>\n",
       "<style scoped>\n",
       "    .dataframe tbody tr th:only-of-type {\n",
       "        vertical-align: middle;\n",
       "    }\n",
       "\n",
       "    .dataframe tbody tr th {\n",
       "        vertical-align: top;\n",
       "    }\n",
       "\n",
       "    .dataframe thead th {\n",
       "        text-align: right;\n",
       "    }\n",
       "</style>\n",
       "<table border=\"1\" class=\"dataframe\">\n",
       "  <thead>\n",
       "    <tr style=\"text-align: right;\">\n",
       "      <th></th>\n",
       "      <th>revenue</th>\n",
       "      <th>vote_average</th>\n",
       "      <th>budget</th>\n",
       "      <th>runtime</th>\n",
       "      <th>original_language_af</th>\n",
       "      <th>original_language_bm</th>\n",
       "      <th>original_language_ca</th>\n",
       "      <th>original_language_cn</th>\n",
       "      <th>original_language_da</th>\n",
       "      <th>original_language_de</th>\n",
       "      <th>...</th>\n",
       "      <th>keyword_writer</th>\n",
       "      <th>keyword_writing</th>\n",
       "      <th>keyword_wyoming</th>\n",
       "      <th>keyword_yacht</th>\n",
       "      <th>keyword_yakuza</th>\n",
       "      <th>keyword_yuppie</th>\n",
       "      <th>keyword_zombie</th>\n",
       "      <th>keyword_zoo</th>\n",
       "      <th>keyword_любовь</th>\n",
       "      <th>keyword_绝地奶霸</th>\n",
       "    </tr>\n",
       "    <tr>\n",
       "      <th>id</th>\n",
       "      <th></th>\n",
       "      <th></th>\n",
       "      <th></th>\n",
       "      <th></th>\n",
       "      <th></th>\n",
       "      <th></th>\n",
       "      <th></th>\n",
       "      <th></th>\n",
       "      <th></th>\n",
       "      <th></th>\n",
       "      <th></th>\n",
       "      <th></th>\n",
       "      <th></th>\n",
       "      <th></th>\n",
       "      <th></th>\n",
       "      <th></th>\n",
       "      <th></th>\n",
       "      <th></th>\n",
       "      <th></th>\n",
       "      <th></th>\n",
       "      <th></th>\n",
       "    </tr>\n",
       "  </thead>\n",
       "  <tbody>\n",
       "    <tr>\n",
       "      <th>862</th>\n",
       "      <td>373554033.0</td>\n",
       "      <td>7.7</td>\n",
       "      <td>30000000.0</td>\n",
       "      <td>81.0</td>\n",
       "      <td>0</td>\n",
       "      <td>0</td>\n",
       "      <td>0</td>\n",
       "      <td>0</td>\n",
       "      <td>0</td>\n",
       "      <td>0</td>\n",
       "      <td>...</td>\n",
       "      <td>0</td>\n",
       "      <td>0</td>\n",
       "      <td>0</td>\n",
       "      <td>0</td>\n",
       "      <td>0</td>\n",
       "      <td>0</td>\n",
       "      <td>0</td>\n",
       "      <td>0</td>\n",
       "      <td>0</td>\n",
       "      <td>0</td>\n",
       "    </tr>\n",
       "    <tr>\n",
       "      <th>8844</th>\n",
       "      <td>262797249.0</td>\n",
       "      <td>6.9</td>\n",
       "      <td>65000000.0</td>\n",
       "      <td>104.0</td>\n",
       "      <td>0</td>\n",
       "      <td>0</td>\n",
       "      <td>0</td>\n",
       "      <td>0</td>\n",
       "      <td>0</td>\n",
       "      <td>0</td>\n",
       "      <td>...</td>\n",
       "      <td>0</td>\n",
       "      <td>0</td>\n",
       "      <td>0</td>\n",
       "      <td>0</td>\n",
       "      <td>0</td>\n",
       "      <td>0</td>\n",
       "      <td>0</td>\n",
       "      <td>0</td>\n",
       "      <td>0</td>\n",
       "      <td>0</td>\n",
       "    </tr>\n",
       "    <tr>\n",
       "      <th>31357</th>\n",
       "      <td>81452156.0</td>\n",
       "      <td>6.1</td>\n",
       "      <td>16000000.0</td>\n",
       "      <td>127.0</td>\n",
       "      <td>0</td>\n",
       "      <td>0</td>\n",
       "      <td>0</td>\n",
       "      <td>0</td>\n",
       "      <td>0</td>\n",
       "      <td>0</td>\n",
       "      <td>...</td>\n",
       "      <td>0</td>\n",
       "      <td>0</td>\n",
       "      <td>0</td>\n",
       "      <td>0</td>\n",
       "      <td>0</td>\n",
       "      <td>0</td>\n",
       "      <td>0</td>\n",
       "      <td>0</td>\n",
       "      <td>0</td>\n",
       "      <td>0</td>\n",
       "    </tr>\n",
       "    <tr>\n",
       "      <th>949</th>\n",
       "      <td>187436818.0</td>\n",
       "      <td>7.7</td>\n",
       "      <td>60000000.0</td>\n",
       "      <td>170.0</td>\n",
       "      <td>0</td>\n",
       "      <td>0</td>\n",
       "      <td>0</td>\n",
       "      <td>0</td>\n",
       "      <td>0</td>\n",
       "      <td>0</td>\n",
       "      <td>...</td>\n",
       "      <td>0</td>\n",
       "      <td>0</td>\n",
       "      <td>0</td>\n",
       "      <td>0</td>\n",
       "      <td>0</td>\n",
       "      <td>0</td>\n",
       "      <td>0</td>\n",
       "      <td>0</td>\n",
       "      <td>0</td>\n",
       "      <td>0</td>\n",
       "    </tr>\n",
       "    <tr>\n",
       "      <th>9091</th>\n",
       "      <td>64350171.0</td>\n",
       "      <td>5.5</td>\n",
       "      <td>35000000.0</td>\n",
       "      <td>106.0</td>\n",
       "      <td>0</td>\n",
       "      <td>0</td>\n",
       "      <td>0</td>\n",
       "      <td>0</td>\n",
       "      <td>0</td>\n",
       "      <td>0</td>\n",
       "      <td>...</td>\n",
       "      <td>0</td>\n",
       "      <td>0</td>\n",
       "      <td>0</td>\n",
       "      <td>0</td>\n",
       "      <td>0</td>\n",
       "      <td>0</td>\n",
       "      <td>0</td>\n",
       "      <td>0</td>\n",
       "      <td>0</td>\n",
       "      <td>0</td>\n",
       "    </tr>\n",
       "  </tbody>\n",
       "</table>\n",
       "<p>5 rows × 18622 columns</p>\n",
       "</div>"
      ],
      "text/plain": [
       "           revenue  vote_average      budget  runtime  original_language_af  \\\n",
       "id                                                                            \n",
       "862    373554033.0           7.7  30000000.0     81.0                     0   \n",
       "8844   262797249.0           6.9  65000000.0    104.0                     0   \n",
       "31357   81452156.0           6.1  16000000.0    127.0                     0   \n",
       "949    187436818.0           7.7  60000000.0    170.0                     0   \n",
       "9091    64350171.0           5.5  35000000.0    106.0                     0   \n",
       "\n",
       "       original_language_bm  original_language_ca  original_language_cn  \\\n",
       "id                                                                        \n",
       "862                       0                     0                     0   \n",
       "8844                      0                     0                     0   \n",
       "31357                     0                     0                     0   \n",
       "949                       0                     0                     0   \n",
       "9091                      0                     0                     0   \n",
       "\n",
       "       original_language_da  original_language_de  ...  keyword_writer  \\\n",
       "id                                                 ...                   \n",
       "862                       0                     0  ...               0   \n",
       "8844                      0                     0  ...               0   \n",
       "31357                     0                     0  ...               0   \n",
       "949                       0                     0  ...               0   \n",
       "9091                      0                     0  ...               0   \n",
       "\n",
       "       keyword_writing  keyword_wyoming  keyword_yacht  keyword_yakuza  \\\n",
       "id                                                                       \n",
       "862                  0                0              0               0   \n",
       "8844                 0                0              0               0   \n",
       "31357                0                0              0               0   \n",
       "949                  0                0              0               0   \n",
       "9091                 0                0              0               0   \n",
       "\n",
       "       keyword_yuppie  keyword_zombie  keyword_zoo  keyword_любовь  \\\n",
       "id                                                                   \n",
       "862                 0               0            0               0   \n",
       "8844                0               0            0               0   \n",
       "31357               0               0            0               0   \n",
       "949                 0               0            0               0   \n",
       "9091                0               0            0               0   \n",
       "\n",
       "       keyword_绝地奶霸  \n",
       "id                   \n",
       "862               0  \n",
       "8844              0  \n",
       "31357             0  \n",
       "949               0  \n",
       "9091              0  \n",
       "\n",
       "[5 rows x 18622 columns]"
      ]
     },
     "execution_count": 112,
     "metadata": {},
     "output_type": "execute_result"
    }
   ],
   "source": [
    "df_dummies = pd.get_dummies(df)\n",
    "df_dummies.head()"
   ]
  },
  {
   "cell_type": "markdown",
   "metadata": {},
   "source": [
    "# Lasso"
   ]
  },
  {
   "cell_type": "code",
   "execution_count": 113,
   "metadata": {},
   "outputs": [],
   "source": [
    "X = df_dummies.drop([\"revenue\", \"vote_average\"], axis=1)\n",
    "y = df_dummies[\"revenue\"]\n",
    "X_train, X_test, y_train, y_test = train_test_split(\n",
    "    X, y, test_size=0.3, random_state=29)"
   ]
  },
  {
   "cell_type": "code",
   "execution_count": 114,
   "metadata": {},
   "outputs": [],
   "source": [
    "lasso_model = LassoCV(normalize=True, cv=10, random_state=29).fit(X_train, y_train)\n"
   ]
  },
  {
   "cell_type": "code",
   "execution_count": 115,
   "metadata": {},
   "outputs": [
    {
     "data": {
      "text/plain": [
       "126578840.98537637"
      ]
     },
     "execution_count": 115,
     "metadata": {},
     "output_type": "execute_result"
    }
   ],
   "source": [
    "y_pred = lasso_model.predict(X_test)\n",
    "np.sqrt(mean_squared_error(y_test, y_pred))"
   ]
  },
  {
   "cell_type": "code",
   "execution_count": 116,
   "metadata": {},
   "outputs": [
    {
     "data": {
      "text/plain": [
       "0.5561837856595734"
      ]
     },
     "execution_count": 116,
     "metadata": {},
     "output_type": "execute_result"
    }
   ],
   "source": [
    "explained_variance_score(y_test, y_pred)"
   ]
  },
  {
   "cell_type": "code",
   "execution_count": 117,
   "metadata": {},
   "outputs": [],
   "source": [
    "coefs = pd.Series(lasso_model.coef_)\n",
    "coef_idx = coefs[coefs != 0].index"
   ]
  },
  {
   "cell_type": "code",
   "execution_count": 128,
   "metadata": {},
   "outputs": [
    {
     "data": {
      "text/html": [
       "<div>\n",
       "<style scoped>\n",
       "    .dataframe tbody tr th:only-of-type {\n",
       "        vertical-align: middle;\n",
       "    }\n",
       "\n",
       "    .dataframe tbody tr th {\n",
       "        vertical-align: top;\n",
       "    }\n",
       "\n",
       "    .dataframe thead th {\n",
       "        text-align: right;\n",
       "    }\n",
       "</style>\n",
       "<table border=\"1\" class=\"dataframe\">\n",
       "  <thead>\n",
       "    <tr style=\"text-align: right;\">\n",
       "      <th></th>\n",
       "      <th>0</th>\n",
       "    </tr>\n",
       "  </thead>\n",
       "  <tbody>\n",
       "    <tr>\n",
       "      <th>0</th>\n",
       "      <td>budget</td>\n",
       "    </tr>\n",
       "    <tr>\n",
       "      <th>1</th>\n",
       "      <td>runtime</td>\n",
       "    </tr>\n",
       "    <tr>\n",
       "      <th>2</th>\n",
       "      <td>is_franchise_False</td>\n",
       "    </tr>\n",
       "    <tr>\n",
       "      <th>3</th>\n",
       "      <td>is_franchise_True</td>\n",
       "    </tr>\n",
       "    <tr>\n",
       "      <th>4</th>\n",
       "      <td>genre_Animation</td>\n",
       "    </tr>\n",
       "  </tbody>\n",
       "</table>\n",
       "</div>"
      ],
      "text/plain": [
       "                    0\n",
       "0              budget\n",
       "1             runtime\n",
       "2  is_franchise_False\n",
       "3   is_franchise_True\n",
       "4     genre_Animation"
      ]
     },
     "execution_count": 128,
     "metadata": {},
     "output_type": "execute_result"
    }
   ],
   "source": [
    "pd.DataFrame(X.columns[coef_idx])[:5]"
   ]
  },
  {
   "cell_type": "code",
   "execution_count": 162,
   "metadata": {},
   "outputs": [
    {
     "data": {
      "text/plain": [
       "<matplotlib.collections.PathCollection at 0x7fbad02d94c0>"
      ]
     },
     "execution_count": 162,
     "metadata": {},
     "output_type": "execute_result"
    },
    {
     "data": {
      "image/png": "[encoded data removed]",
      "text/plain": [
       "<Figure size 432x288 with 1 Axes>"
      ]
     },
     "metadata": {
      "needs_background": "light"
     },
     "output_type": "display_data"
    }
   ],
   "source": [
    "resids = y_test - y_pred\n",
    "df_resids = pd.DataFrame({\"resids\" : resids, \"revenue\" : y_test})\n",
    "df_resids.sort_values(by=\"revenue\", inplace=True)\n",
    "plt.scatter(df_resids[\"revenue\"], df_resids[\"resids\"])"
   ]
  },
  {
   "cell_type": "code",
   "execution_count": 164,
   "metadata": {},
   "outputs": [
    {
     "data": {
      "text/plain": [
       "id\n",
       "19995     2.204306e+09\n",
       "597       1.392666e+09\n",
       "135397    1.126398e+09\n",
       "12445     1.008223e+09\n",
       "109445    8.791768e+08\n",
       "              ...     \n",
       "476       6.927095e+04\n",
       "25853     6.230219e+04\n",
       "336882    2.334875e+04\n",
       "34586     1.769944e+04\n",
       "599       1.369321e+04\n",
       "Name: revenue, Length: 1560, dtype: float64"
      ]
     },
     "execution_count": 164,
     "metadata": {},
     "output_type": "execute_result"
    }
   ],
   "source": [
    "np.abs(resids).sort_values(ascending=False)"
   ]
  },
  {
   "cell_type": "markdown",
   "metadata": {},
   "source": [
    "# Log tranform Lasso?"
   ]
  },
  {
   "cell_type": "code",
   "execution_count": 129,
   "metadata": {},
   "outputs": [],
   "source": [
    "# try log transform? \n",
    "y_train_log = np.log(y_train)\n",
    "y_test_log = np.log(y_test)\n",
    "lasso_log_model = LassoCV(normalize=True, cv=10, random_state=29).fit(X_train, y_train_log)"
   ]
  },
  {
   "cell_type": "code",
   "execution_count": 152,
   "metadata": {},
   "outputs": [
    {
     "data": {
      "text/plain": [
       "1528590797.0984702"
      ]
     },
     "execution_count": 152,
     "metadata": {},
     "output_type": "execute_result"
    }
   ],
   "source": [
    "y_log_pred = lasso_log_model.predict(X_test)\n",
    "y_backtrans = np.exp(y_log_pred)\n",
    "np.sqrt(mean_squared_error(y_test, y_backtrans))"
   ]
  },
  {
   "cell_type": "code",
   "execution_count": 153,
   "metadata": {},
   "outputs": [
    {
     "data": {
      "text/plain": [
       "<matplotlib.collections.PathCollection at 0x7fbbd0d91d90>"
      ]
     },
     "execution_count": 153,
     "metadata": {},
     "output_type": "execute_result"
    },
    {
     "data": {
      "image/png": "[encoded data removed]",
      "text/plain": [
       "<Figure size 432x288 with 1 Axes>"
      ]
     },
     "metadata": {
      "needs_background": "light"
     },
     "output_type": "display_data"
    }
   ],
   "source": [
    "resids = y_test - y_backtrans\n",
    "plt.scatter(y_test, resids)"
   ]
  },
  {
   "cell_type": "code",
   "execution_count": 158,
   "metadata": {},
   "outputs": [],
   "source": [
    "resids = pd.DataFrame({\"rev\" : y_test, \"resid\" : resids})"
   ]
  },
  {
   "cell_type": "code",
   "execution_count": 160,
   "metadata": {},
   "outputs": [
    {
     "data": {
      "text/html": [
       "<div>\n",
       "<style scoped>\n",
       "    .dataframe tbody tr th:only-of-type {\n",
       "        vertical-align: middle;\n",
       "    }\n",
       "\n",
       "    .dataframe tbody tr th {\n",
       "        vertical-align: top;\n",
       "    }\n",
       "\n",
       "    .dataframe thead th {\n",
       "        text-align: right;\n",
       "    }\n",
       "</style>\n",
       "<table border=\"1\" class=\"dataframe\">\n",
       "  <thead>\n",
       "    <tr style=\"text-align: right;\">\n",
       "      <th></th>\n",
       "      <th>rev</th>\n",
       "      <th>resid</th>\n",
       "    </tr>\n",
       "    <tr>\n",
       "      <th>id</th>\n",
       "      <th></th>\n",
       "      <th></th>\n",
       "    </tr>\n",
       "  </thead>\n",
       "  <tbody>\n",
       "    <tr>\n",
       "      <th>1865</th>\n",
       "      <td>1.045714e+09</td>\n",
       "      <td>-5.903603e+10</td>\n",
       "    </tr>\n",
       "    <tr>\n",
       "      <th>559</th>\n",
       "      <td>8.908716e+08</td>\n",
       "      <td>-7.368543e+09</td>\n",
       "    </tr>\n",
       "    <tr>\n",
       "      <th>57158</th>\n",
       "      <td>9.584000e+08</td>\n",
       "      <td>-5.253429e+09</td>\n",
       "    </tr>\n",
       "    <tr>\n",
       "      <th>767</th>\n",
       "      <td>9.339592e+08</td>\n",
       "      <td>-4.324460e+09</td>\n",
       "    </tr>\n",
       "    <tr>\n",
       "      <th>12444</th>\n",
       "      <td>9.543059e+08</td>\n",
       "      <td>-3.910015e+09</td>\n",
       "    </tr>\n",
       "    <tr>\n",
       "      <th>...</th>\n",
       "      <td>...</td>\n",
       "      <td>...</td>\n",
       "    </tr>\n",
       "    <tr>\n",
       "      <th>672</th>\n",
       "      <td>8.766885e+08</td>\n",
       "      <td>5.985476e+08</td>\n",
       "    </tr>\n",
       "    <tr>\n",
       "      <th>293660</th>\n",
       "      <td>7.831130e+08</td>\n",
       "      <td>6.578388e+08</td>\n",
       "    </tr>\n",
       "    <tr>\n",
       "      <th>121</th>\n",
       "      <td>9.262874e+08</td>\n",
       "      <td>6.863077e+08</td>\n",
       "    </tr>\n",
       "    <tr>\n",
       "      <th>135397</th>\n",
       "      <td>1.513529e+09</td>\n",
       "      <td>8.592759e+08</td>\n",
       "    </tr>\n",
       "    <tr>\n",
       "      <th>12445</th>\n",
       "      <td>1.342000e+09</td>\n",
       "      <td>9.626714e+08</td>\n",
       "    </tr>\n",
       "  </tbody>\n",
       "</table>\n",
       "<p>1560 rows × 2 columns</p>\n",
       "</div>"
      ],
      "text/plain": [
       "                 rev         resid\n",
       "id                                \n",
       "1865    1.045714e+09 -5.903603e+10\n",
       "559     8.908716e+08 -7.368543e+09\n",
       "57158   9.584000e+08 -5.253429e+09\n",
       "767     9.339592e+08 -4.324460e+09\n",
       "12444   9.543059e+08 -3.910015e+09\n",
       "...              ...           ...\n",
       "672     8.766885e+08  5.985476e+08\n",
       "293660  7.831130e+08  6.578388e+08\n",
       "121     9.262874e+08  6.863077e+08\n",
       "135397  1.513529e+09  8.592759e+08\n",
       "12445   1.342000e+09  9.626714e+08\n",
       "\n",
       "[1560 rows x 2 columns]"
      ]
     },
     "execution_count": 160,
     "metadata": {},
     "output_type": "execute_result"
    }
   ],
   "source": [
    "resids.sort_values(by=\"resid\")"
   ]
  },
  {
   "cell_type": "code",
   "execution_count": 166,
   "metadata": {},
   "outputs": [
    {
     "data": {
      "text/plain": [
       "0.42497721742231753"
      ]
     },
     "execution_count": 166,
     "metadata": {},
     "output_type": "execute_result"
    }
   ],
   "source": [
    "explained_variance_score(y_test_log, y_log_pred)"
   ]
  },
  {
   "cell_type": "markdown",
   "metadata": {},
   "source": [
    "# Ridge"
   ]
  },
  {
   "cell_type": "code",
   "execution_count": 168,
   "metadata": {},
   "outputs": [
    {
     "data": {
      "text/plain": [
       "<matplotlib.collections.PathCollection at 0x7fbad04024c0>"
      ]
     },
     "execution_count": 168,
     "metadata": {},
     "output_type": "execute_result"
    },
    {
     "data": {
      "image/png": "[encoded data removed]",
      "text/plain": [
       "<Figure size 432x288 with 1 Axes>"
      ]
     },
     "metadata": {
      "needs_background": "light"
     },
     "output_type": "display_data"
    }
   ],
   "source": [
    "ridge_model = RidgeCV(normalize=True, cv=10).fit(X_train, y_train)\n",
    "y_pred = ridge_model.predict(X_test)\n",
    "print(np.sqrt(mean_squared_error(y_test, y_pred)))\n",
    "print(explained_variance_score(y_test, y_pred))\n",
    "\n",
    "resids = y_test - y_pred\n",
    "df_resids = pd.DataFrame({\"resids\" : resids, \"revenue\" : y_test})\n",
    "df_resids.sort_values(by=\"revenue\", inplace=True)\n",
    "plt.scatter(df_resids[\"revenue\"], df_resids[\"resids\"])"
   ]
  },
  {
   "cell_type": "code",
   "execution_count": 169,
   "metadata": {},
   "outputs": [
    {
     "data": {
      "text/plain": [
       "0.38426129012340504"
      ]
     },
     "execution_count": 169,
     "metadata": {},
     "output_type": "execute_result"
    }
   ],
   "source": [
    "explained_variance_score(y_test, y_pred)"
   ]
  },
  {
   "cell_type": "code",
   "execution_count": 170,
   "metadata": {},
   "outputs": [
    {
     "data": {
      "text/plain": [
       "148657064.45427877"
      ]
     },
     "execution_count": 170,
     "metadata": {},
     "output_type": "execute_result"
    }
   ],
   "source": [
    "np.sqrt(mean_squared_error(y_test, y_pred))"
   ]
  },
  {
   "cell_type": "markdown",
   "metadata": {},
   "source": [
    "# Elastic Net"
   ]
  },
  {
   "cell_type": "code",
   "execution_count": 172,
   "metadata": {},
   "outputs": [],
   "source": [
    "EN_model = ElasticNetCV(normalize=True, cv=10).fit(X_train, y_train)"
   ]
  },
  {
   "cell_type": "code",
   "execution_count": 173,
   "metadata": {},
   "outputs": [
    {
     "name": "stdout",
     "output_type": "stream",
     "text": [
      "189419304.0859634\n",
      "5.906628943730396e-07\n"
     ]
    }
   ],
   "source": [
    "y_pred = EN_model.predict(X_test)\n",
    "print(np.sqrt(mean_squared_error(y_test, y_pred)))\n",
    "print(explained_variance_score(y_test, y_pred))"
   ]
  },
  {
   "cell_type": "code",
   "execution_count": 174,
   "metadata": {},
   "outputs": [
    {
     "data": {
      "text/plain": [
       "<matplotlib.collections.PathCollection at 0x7fbbd0d74520>"
      ]
     },
     "execution_count": 174,
     "metadata": {},
     "output_type": "execute_result"
    },
    {
     "data": {
      "image/png": "[encoded data removed]",
      "text/plain": [
       "<Figure size 432x288 with 1 Axes>"
      ]
     },
     "metadata": {
      "needs_background": "light"
     },
     "output_type": "display_data"
    }
   ],
   "source": [
    "resids = y_test - y_pred\n",
    "plt.scatter(y_test, resids)"
   ]
  },
  {
   "cell_type": "code",
   "execution_count": 175,
   "metadata": {},
   "outputs": [
    {
     "data": {
      "text/plain": [
       "array([ 4.03248254e-07,  1.87448178e-01,  0.00000000e+00, ...,\n",
       "        2.99815469e+00, -4.29682796e+00,  1.08132587e+01])"
      ]
     },
     "execution_count": 175,
     "metadata": {},
     "output_type": "execute_result"
    }
   ],
   "source": [
    "coefs = pd.Series(EN_model.coef_)"
   ]
  },
  {
   "cell_type": "code",
   "execution_count": 176,
   "metadata": {},
   "outputs": [
    {
     "data": {
      "text/plain": [
       "0        2.178386e+00\n",
       "1        1.844503e+05\n",
       "39      -5.659304e+07\n",
       "40       9.296653e-09\n",
       "43       1.091476e+07\n",
       "             ...     \n",
       "16135    1.645449e+08\n",
       "16149    2.303678e+08\n",
       "16821    1.191492e+08\n",
       "16947    2.310783e+06\n",
       "18384    1.220056e+08\n",
       "Length: 112, dtype: float64"
      ]
     },
     "execution_count": 176,
     "metadata": {},
     "output_type": "execute_result"
    }
   ],
   "source": [
    "coefs[coefs != 0]"
   ]
  },
  {
   "cell_type": "code",
   "execution_count": 178,
   "metadata": {},
   "outputs": [
    {
     "data": {
      "text/plain": [
       "id\n",
       "81048    -9.251584e+07\n",
       "333386   -9.251293e+07\n",
       "158916   -9.251131e+07\n",
       "13856    -9.251022e+07\n",
       "38850    -9.251015e+07\n",
       "              ...     \n",
       "12445     1.249482e+09\n",
       "168259    1.413731e+09\n",
       "135397    1.421011e+09\n",
       "597       1.752517e+09\n",
       "19995     2.695447e+09\n",
       "Name: revenue, Length: 1560, dtype: float64"
      ]
     },
     "execution_count": 178,
     "metadata": {},
     "output_type": "execute_result"
    }
   ],
   "source": [
    "resids.sort_values()"
   ]
  }
 ],
 "metadata": {
  "kernelspec": {
   "display_name": "Python 3",
   "language": "python",
   "name": "python3"
  },
  "language_info": {
   "codemirror_mode": {
    "name": "ipython",
    "version": 3
   },
   "file_extension": ".py",
   "mimetype": "text/x-python",
   "name": "python",
   "nbconvert_exporter": "python",
   "pygments_lexer": "ipython3",
   "version": "3.8.3"
  }
 },
 "nbformat": 4,
 "nbformat_minor": 4
}
